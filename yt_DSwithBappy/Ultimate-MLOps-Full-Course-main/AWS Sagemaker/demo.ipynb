{
 "cells": [
  {
   "cell_type": "code",
   "execution_count": 19,
   "id": "1b5948ac-70fd-4a2b-b2aa-b4dee50f2b59",
   "metadata": {
    "tags": []
   },
   "outputs": [],
   "source": [
    "# importing necessary libraries\n",
    "import pandas as pd\n",
    "import numpy as np\n",
    "import boto3\n",
    "from sklearn.model_selection import train_test_split\n",
    "import sagemaker\n",
    "from sagemaker import Session\n",
    "import io\n",
    "import sagemaker.amazon.common as smac\n",
    "import os\n",
    "from sagemaker.amazon.amazon_estimator import get_image_uri"
   ]
  },
  {
   "cell_type": "code",
   "execution_count": 20,
   "id": "a1069403-db08-4956-ba64-b1f0c6ff1c00",
   "metadata": {
    "tags": []
   },
   "outputs": [],
   "source": [
    "#read the csv file\n",
    "df=pd.read_csv(\"student_scores.csv\")"
   ]
  },
  {
   "cell_type": "code",
   "execution_count": 21,
   "id": "6ad9e0c3-eec7-49e7-b348-ecb1558ca967",
   "metadata": {
    "tags": []
   },
   "outputs": [
    {
     "data": {
      "text/html": [
       "<div>\n",
       "<style scoped>\n",
       "    .dataframe tbody tr th:only-of-type {\n",
       "        vertical-align: middle;\n",
       "    }\n",
       "\n",
       "    .dataframe tbody tr th {\n",
       "        vertical-align: top;\n",
       "    }\n",
       "\n",
       "    .dataframe thead th {\n",
       "        text-align: right;\n",
       "    }\n",
       "</style>\n",
       "<table border=\"1\" class=\"dataframe\">\n",
       "  <thead>\n",
       "    <tr style=\"text-align: right;\">\n",
       "      <th></th>\n",
       "      <th>Hours</th>\n",
       "      <th>Scores</th>\n",
       "    </tr>\n",
       "  </thead>\n",
       "  <tbody>\n",
       "    <tr>\n",
       "      <th>0</th>\n",
       "      <td>2.5</td>\n",
       "      <td>21</td>\n",
       "    </tr>\n",
       "    <tr>\n",
       "      <th>1</th>\n",
       "      <td>5.1</td>\n",
       "      <td>47</td>\n",
       "    </tr>\n",
       "    <tr>\n",
       "      <th>2</th>\n",
       "      <td>3.2</td>\n",
       "      <td>27</td>\n",
       "    </tr>\n",
       "    <tr>\n",
       "      <th>3</th>\n",
       "      <td>8.5</td>\n",
       "      <td>75</td>\n",
       "    </tr>\n",
       "    <tr>\n",
       "      <th>4</th>\n",
       "      <td>3.5</td>\n",
       "      <td>30</td>\n",
       "    </tr>\n",
       "  </tbody>\n",
       "</table>\n",
       "</div>"
      ],
      "text/plain": [
       "   Hours  Scores\n",
       "0    2.5      21\n",
       "1    5.1      47\n",
       "2    3.2      27\n",
       "3    8.5      75\n",
       "4    3.5      30"
      ]
     },
     "execution_count": 21,
     "metadata": {},
     "output_type": "execute_result"
    }
   ],
   "source": [
    "#head of the dataframe\n",
    "df.head()"
   ]
  },
  {
   "cell_type": "code",
   "execution_count": 22,
   "id": "e41fd832-fcae-467c-b500-a4d95e1916e5",
   "metadata": {
    "tags": []
   },
   "outputs": [
    {
     "data": {
      "text/plain": [
       "(25, 2)"
      ]
     },
     "execution_count": 22,
     "metadata": {},
     "output_type": "execute_result"
    }
   ],
   "source": [
    "#shape of the data\n",
    "df.shape"
   ]
  },
  {
   "cell_type": "code",
   "execution_count": 23,
   "id": "c5b002bb-f775-497d-bcfd-a8b9bda6095b",
   "metadata": {
    "tags": []
   },
   "outputs": [],
   "source": [
    "#separate x and y\n",
    "x=df[[\"Hours\"]]\n",
    "y=df[[\"Scores\"]]"
   ]
  },
  {
   "cell_type": "code",
   "execution_count": 24,
   "id": "ab1e6ba5-1703-4876-ba6b-d0408f07775d",
   "metadata": {
    "tags": []
   },
   "outputs": [],
   "source": [
    "#checking data types\n",
    "x.dtypes\n",
    "x=x.astype(\"float32\")\n",
    "y=y.astype(\"float32\")"
   ]
  },
  {
   "cell_type": "code",
   "execution_count": 25,
   "id": "a69641de-ce6c-4da3-bda0-2b773601fcd8",
   "metadata": {
    "tags": []
   },
   "outputs": [
    {
     "data": {
      "text/plain": [
       "Scores    float32\n",
       "dtype: object"
      ]
     },
     "execution_count": 25,
     "metadata": {},
     "output_type": "execute_result"
    }
   ],
   "source": [
    "y.dtypes"
   ]
  },
  {
   "cell_type": "code",
   "execution_count": 26,
   "id": "c3064d73-ed56-4e3e-82eb-58557f61719f",
   "metadata": {
    "tags": []
   },
   "outputs": [],
   "source": [
    "#split the data\n",
    "X_train,X_test,y_train,y_test=train_test_split(x,y,test_size=0.2)"
   ]
  },
  {
   "cell_type": "code",
   "execution_count": 27,
   "id": "3d61523d-72eb-4c16-8f08-409f149152bf",
   "metadata": {
    "tags": []
   },
   "outputs": [],
   "source": [
    "#reset index\n",
    "X_train=X_train.reset_index(drop=True)\n",
    "y_train=y_train.reset_index(drop=True)\n",
    "X_test=X_test.reset_index(drop=True)\n",
    "y_test=y_test.reset_index(drop=True)"
   ]
  },
  {
   "cell_type": "code",
   "execution_count": 28,
   "id": "7408dcf9-7a93-43ea-abb6-260886f7c2ff",
   "metadata": {
    "tags": []
   },
   "outputs": [],
   "source": [
    "#we need to take label column as vector\n",
    "y_train=y_train.iloc[:,0]"
   ]
  },
  {
   "cell_type": "code",
   "execution_count": 29,
   "id": "c05e6359-c334-42ab-b124-20038f49130e",
   "metadata": {
    "tags": []
   },
   "outputs": [],
   "source": [
    "y_test=y_test.iloc[:,0]"
   ]
  },
  {
   "cell_type": "code",
   "execution_count": 30,
   "id": "51193634-2f10-4245-8f10-4b04b46b490d",
   "metadata": {
    "tags": []
   },
   "outputs": [],
   "source": [
    "#lets create sagemaker session\n",
    "sagemaker_session=sagemaker.Session()\n",
    "#define the bucket name\n",
    "bucket_name=\"bappy-sagemaker\"\n",
    "#define the prefix\n",
    "prefix=\"linear-learner\"\n",
    "#get the execution role\n",
    "role=sagemaker.get_execution_role()"
   ]
  },
  {
   "cell_type": "code",
   "execution_count": 31,
   "id": "259e3c1b-54c4-4029-bcf6-40a5bb312ae0",
   "metadata": {
    "tags": []
   },
   "outputs": [],
   "source": [
    "#convert X_train into numpy aray\n",
    "X_train=np.array(X_train)"
   ]
  },
  {
   "cell_type": "code",
   "execution_count": 32,
   "id": "5a51f5ed-86e2-400c-862f-333945bcab2f",
   "metadata": {
    "tags": []
   },
   "outputs": [
    {
     "data": {
      "text/plain": [
       "0"
      ]
     },
     "execution_count": 32,
     "metadata": {},
     "output_type": "execute_result"
    }
   ],
   "source": [
    "#create the buffer\n",
    "buf=io.BytesIO()\n",
    "smac.write_numpy_to_dense_tensor(buf,X_train,y_train)\n",
    "buf.seek(0)"
   ]
  },
  {
   "cell_type": "code",
   "execution_count": 33,
   "id": "ffc695ae-5bb2-4292-ab9d-b59f00bfe360",
   "metadata": {
    "tags": []
   },
   "outputs": [
    {
     "name": "stdout",
     "output_type": "stream",
     "text": [
      "Data uploaded s3://bappy-sagemaker/linear-learner/train/student-data\n"
     ]
    }
   ],
   "source": [
    "#define the name of the file\n",
    "key=\"student-data\"\n",
    "\n",
    "#code to upload in s3\n",
    "boto3.resource('s3').Bucket(bucket_name).Object(os.path.join(prefix,'train',key)).upload_fileobj(buf)\n",
    "\n",
    "#path of our data\n",
    "s3_train_data=f\"s3://{bucket_name}/{prefix}/train/{key}\"\n",
    "\n",
    "print(\"Data uploaded\",s3_train_data)"
   ]
  },
  {
   "cell_type": "code",
   "execution_count": 34,
   "id": "b1f098ff-0490-4066-821f-68f78ddeae6a",
   "metadata": {
    "tags": []
   },
   "outputs": [
    {
     "name": "stdout",
     "output_type": "stream",
     "text": [
      "Data uploaded s3://bappy-sagemaker/linear-learner/test/student-data-test\n"
     ]
    }
   ],
   "source": [
    "#convert X_train into numpy aray\n",
    "X_test=np.array(X_test)\n",
    "#create the buffer\n",
    "buf=io.BytesIO()\n",
    "smac.write_numpy_to_dense_tensor(buf,X_test,y_test)\n",
    "buf.seek(0)\n",
    "#define the name of the file\n",
    "key=\"student-data-test\"\n",
    "\n",
    "#code to upload in s3\n",
    "boto3.resource('s3').Bucket(bucket_name).Object(os.path.join(prefix,'test',key)).upload_fileobj(buf)\n",
    "\n",
    "#path of our data\n",
    "s3_train_data=f\"s3://{bucket_name}/{prefix}/test/{key}\"\n",
    "\n",
    "print(\"Data uploaded\",s3_train_data)"
   ]
  },
  {
   "cell_type": "code",
   "execution_count": 35,
   "id": "431788f8-3ebb-479e-9eb7-34367d8cdc22",
   "metadata": {
    "tags": []
   },
   "outputs": [],
   "source": [
    "#output location\n",
    "output_location=f\"s3://{bucket_name}/{prefix}/output\""
   ]
  },
  {
   "cell_type": "code",
   "execution_count": 36,
   "id": "bc4d36d6-7041-4397-8282-7b036025544e",
   "metadata": {},
   "outputs": [
    {
     "data": {
      "text/plain": [
       "'s3://bappy-sagemaker/linear-learner/output'"
      ]
     },
     "execution_count": 36,
     "metadata": {},
     "output_type": "execute_result"
    }
   ],
   "source": [
    "output_location"
   ]
  },
  {
   "cell_type": "code",
   "execution_count": 37,
   "id": "840e992e-2289-4e44-8efc-79b0c6fcbeb2",
   "metadata": {
    "tags": []
   },
   "outputs": [
    {
     "data": {
      "text/html": [
       "<pre style=\"white-space:pre;overflow-x:auto;line-height:normal;font-family:Menlo,'DejaVu Sans Mono',consolas,'Courier New',monospace\"><span style=\"color: #7fbfbf; text-decoration-color: #7fbfbf\">[03/18/25 06:27:17] </span><span style=\"color: #0069ff; text-decoration-color: #0069ff; font-weight: bold\">INFO    </span> Same images used for training and inference. Defaulting to image     <a href=\"file:///opt/conda/lib/python3.11/site-packages/sagemaker/image_uris.py\" target=\"_blank\"><span style=\"color: #7f7f7f; text-decoration-color: #7f7f7f\">image_uris.py</span></a><span style=\"color: #7f7f7f; text-decoration-color: #7f7f7f\">:</span><a href=\"file:///opt/conda/lib/python3.11/site-packages/sagemaker/image_uris.py#393\" target=\"_blank\"><span style=\"color: #7f7f7f; text-decoration-color: #7f7f7f\">393</span></a>\n",
       "<span style=\"color: #7fbfbf; text-decoration-color: #7fbfbf\">                    </span>         scope: inference.                                                    <span style=\"color: #7f7f7f; text-decoration-color: #7f7f7f\">                 </span>\n",
       "</pre>\n"
      ],
      "text/plain": [
       "\u001b[2;36m[03/18/25 06:27:17]\u001b[0m\u001b[2;36m \u001b[0m\u001b[1;38;2;0;105;255mINFO    \u001b[0m Same images used for training and inference. Defaulting to image     \u001b]8;id=805510;file:///opt/conda/lib/python3.11/site-packages/sagemaker/image_uris.py\u001b\\\u001b[2mimage_uris.py\u001b[0m\u001b]8;;\u001b\\\u001b[2m:\u001b[0m\u001b]8;id=228718;file:///opt/conda/lib/python3.11/site-packages/sagemaker/image_uris.py#393\u001b\\\u001b[2m393\u001b[0m\u001b]8;;\u001b\\\n",
       "\u001b[2;36m                    \u001b[0m         scope: inference.                                                    \u001b[2m                 \u001b[0m\n"
      ]
     },
     "metadata": {},
     "output_type": "display_data"
    },
    {
     "data": {
      "text/html": [
       "<pre style=\"white-space:pre;overflow-x:auto;line-height:normal;font-family:Menlo,'DejaVu Sans Mono',consolas,'Courier New',monospace\"><span style=\"color: #7fbfbf; text-decoration-color: #7fbfbf\">                    </span><span style=\"color: #0069ff; text-decoration-color: #0069ff; font-weight: bold\">INFO    </span> Ignoring unnecessary instance type: <span style=\"color: #e100e1; text-decoration-color: #e100e1; font-style: italic\">None</span>.                            <a href=\"file:///opt/conda/lib/python3.11/site-packages/sagemaker/image_uris.py\" target=\"_blank\"><span style=\"color: #7f7f7f; text-decoration-color: #7f7f7f\">image_uris.py</span></a><span style=\"color: #7f7f7f; text-decoration-color: #7f7f7f\">:</span><a href=\"file:///opt/conda/lib/python3.11/site-packages/sagemaker/image_uris.py#530\" target=\"_blank\"><span style=\"color: #7f7f7f; text-decoration-color: #7f7f7f\">530</span></a>\n",
       "</pre>\n"
      ],
      "text/plain": [
       "\u001b[2;36m                   \u001b[0m\u001b[2;36m \u001b[0m\u001b[1;38;2;0;105;255mINFO    \u001b[0m Ignoring unnecessary instance type: \u001b[3;38;2;225;0;225mNone\u001b[0m.                            \u001b]8;id=543165;file:///opt/conda/lib/python3.11/site-packages/sagemaker/image_uris.py\u001b\\\u001b[2mimage_uris.py\u001b[0m\u001b]8;;\u001b\\\u001b[2m:\u001b[0m\u001b]8;id=934441;file:///opt/conda/lib/python3.11/site-packages/sagemaker/image_uris.py#530\u001b\\\u001b[2m530\u001b[0m\u001b]8;;\u001b\\\n"
      ]
     },
     "metadata": {},
     "output_type": "display_data"
    }
   ],
   "source": [
    "#bring the container\n",
    "container=sagemaker.image_uris.retrieve(\"linear-learner\",boto3.Session().region_name)"
   ]
  },
  {
   "cell_type": "code",
   "execution_count": 38,
   "id": "64f6eaa6-06ca-471d-817b-9bc95b8054f2",
   "metadata": {
    "tags": []
   },
   "outputs": [],
   "source": [
    "#define the estimator\n",
    "linear=sagemaker.estimator.Estimator(container,role,instance_count=1,instance_type=\"ml.c4.xlarge\",output_path=output_location,sagemaker_session=sagemaker_session)"
   ]
  },
  {
   "cell_type": "code",
   "execution_count": 39,
   "id": "062e0136-a43b-4152-a50d-677874dd00a2",
   "metadata": {
    "tags": []
   },
   "outputs": [],
   "source": [
    "#setting up the hyperparameters\n",
    "linear.set_hyperparameters(feature_dim=1,predictor_type=\"regressor\",mini_batch_size=4,epochs=6,num_models=32,loss=\"absolute_loss\")"
   ]
  },
  {
   "cell_type": "code",
   "execution_count": 40,
   "id": "39156d4b-32c6-455e-955f-5624c1beeeb6",
   "metadata": {
    "tags": []
   },
   "outputs": [
    {
     "data": {
      "text/html": [
       "<pre style=\"white-space:pre;overflow-x:auto;line-height:normal;font-family:Menlo,'DejaVu Sans Mono',consolas,'Courier New',monospace\"><span style=\"color: #7fbfbf; text-decoration-color: #7fbfbf\">[03/18/25 06:31:12] </span><span style=\"color: #0069ff; text-decoration-color: #0069ff; font-weight: bold\">INFO    </span> SageMaker Python SDK will collect telemetry to help us better  <a href=\"file:///opt/conda/lib/python3.11/site-packages/sagemaker/telemetry/telemetry_logging.py\" target=\"_blank\"><span style=\"color: #7f7f7f; text-decoration-color: #7f7f7f\">telemetry_logging.py</span></a><span style=\"color: #7f7f7f; text-decoration-color: #7f7f7f\">:</span><a href=\"file:///opt/conda/lib/python3.11/site-packages/sagemaker/telemetry/telemetry_logging.py#91\" target=\"_blank\"><span style=\"color: #7f7f7f; text-decoration-color: #7f7f7f\">91</span></a>\n",
       "<span style=\"color: #7fbfbf; text-decoration-color: #7fbfbf\">                    </span>         understand our user's needs, diagnose issues, and deliver      <span style=\"color: #7f7f7f; text-decoration-color: #7f7f7f\">                       </span>\n",
       "<span style=\"color: #7fbfbf; text-decoration-color: #7fbfbf\">                    </span>         additional features.                                           <span style=\"color: #7f7f7f; text-decoration-color: #7f7f7f\">                       </span>\n",
       "<span style=\"color: #7fbfbf; text-decoration-color: #7fbfbf\">                    </span>         To opt out of telemetry, please disable via TelemetryOptOut    <span style=\"color: #7f7f7f; text-decoration-color: #7f7f7f\">                       </span>\n",
       "<span style=\"color: #7fbfbf; text-decoration-color: #7fbfbf\">                    </span>         parameter in SDK defaults config. For more information, refer  <span style=\"color: #7f7f7f; text-decoration-color: #7f7f7f\">                       </span>\n",
       "<span style=\"color: #7fbfbf; text-decoration-color: #7fbfbf\">                    </span>         to                                                             <span style=\"color: #7f7f7f; text-decoration-color: #7f7f7f\">                       </span>\n",
       "<span style=\"color: #7fbfbf; text-decoration-color: #7fbfbf\">                    </span>         <span style=\"color: #0069ff; text-decoration-color: #0069ff; text-decoration: underline\">https://sagemaker.readthedocs.io/en/stable/overview.html#confi</span> <span style=\"color: #7f7f7f; text-decoration-color: #7f7f7f\">                       </span>\n",
       "<span style=\"color: #7fbfbf; text-decoration-color: #7fbfbf\">                    </span>         <span style=\"color: #0069ff; text-decoration-color: #0069ff; text-decoration: underline\">guring-and-using-defaults-with-the-sagemaker-python-sdk.</span>       <span style=\"color: #7f7f7f; text-decoration-color: #7f7f7f\">                       </span>\n",
       "</pre>\n"
      ],
      "text/plain": [
       "\u001b[2;36m[03/18/25 06:31:12]\u001b[0m\u001b[2;36m \u001b[0m\u001b[1;38;2;0;105;255mINFO    \u001b[0m SageMaker Python SDK will collect telemetry to help us better  \u001b]8;id=960986;file:///opt/conda/lib/python3.11/site-packages/sagemaker/telemetry/telemetry_logging.py\u001b\\\u001b[2mtelemetry_logging.py\u001b[0m\u001b]8;;\u001b\\\u001b[2m:\u001b[0m\u001b]8;id=386606;file:///opt/conda/lib/python3.11/site-packages/sagemaker/telemetry/telemetry_logging.py#91\u001b\\\u001b[2m91\u001b[0m\u001b]8;;\u001b\\\n",
       "\u001b[2;36m                    \u001b[0m         understand our user's needs, diagnose issues, and deliver      \u001b[2m                       \u001b[0m\n",
       "\u001b[2;36m                    \u001b[0m         additional features.                                           \u001b[2m                       \u001b[0m\n",
       "\u001b[2;36m                    \u001b[0m         To opt out of telemetry, please disable via TelemetryOptOut    \u001b[2m                       \u001b[0m\n",
       "\u001b[2;36m                    \u001b[0m         parameter in SDK defaults config. For more information, refer  \u001b[2m                       \u001b[0m\n",
       "\u001b[2;36m                    \u001b[0m         to                                                             \u001b[2m                       \u001b[0m\n",
       "\u001b[2;36m                    \u001b[0m         \u001b[4;38;2;0;105;255mhttps://sagemaker.readthedocs.io/en/stable/overview.html#confi\u001b[0m \u001b[2m                       \u001b[0m\n",
       "\u001b[2;36m                    \u001b[0m         \u001b[4;38;2;0;105;255mguring-and-using-defaults-with-the-sagemaker-python-sdk.\u001b[0m       \u001b[2m                       \u001b[0m\n"
      ]
     },
     "metadata": {},
     "output_type": "display_data"
    },
    {
     "data": {
      "text/html": [
       "<pre style=\"white-space:pre;overflow-x:auto;line-height:normal;font-family:Menlo,'DejaVu Sans Mono',consolas,'Courier New',monospace\"><span style=\"color: #7fbfbf; text-decoration-color: #7fbfbf\">                    </span><span style=\"color: #0069ff; text-decoration-color: #0069ff; font-weight: bold\">INFO    </span> Creating training-job with name:                                       <a href=\"file:///opt/conda/lib/python3.11/site-packages/sagemaker/session.py\" target=\"_blank\"><span style=\"color: #7f7f7f; text-decoration-color: #7f7f7f\">session.py</span></a><span style=\"color: #7f7f7f; text-decoration-color: #7f7f7f\">:</span><a href=\"file:///opt/conda/lib/python3.11/site-packages/sagemaker/session.py#1042\" target=\"_blank\"><span style=\"color: #7f7f7f; text-decoration-color: #7f7f7f\">1042</span></a>\n",
       "<span style=\"color: #7fbfbf; text-decoration-color: #7fbfbf\">                    </span>         linear-learner-<span style=\"color: #008080; text-decoration-color: #008080; font-weight: bold\">2025</span>-03-18-06-31-12-425                                 <span style=\"color: #7f7f7f; text-decoration-color: #7f7f7f\">               </span>\n",
       "</pre>\n"
      ],
      "text/plain": [
       "\u001b[2;36m                   \u001b[0m\u001b[2;36m \u001b[0m\u001b[1;38;2;0;105;255mINFO    \u001b[0m Creating training-job with name:                                       \u001b]8;id=818191;file:///opt/conda/lib/python3.11/site-packages/sagemaker/session.py\u001b\\\u001b[2msession.py\u001b[0m\u001b]8;;\u001b\\\u001b[2m:\u001b[0m\u001b]8;id=287268;file:///opt/conda/lib/python3.11/site-packages/sagemaker/session.py#1042\u001b\\\u001b[2m1042\u001b[0m\u001b]8;;\u001b\\\n",
       "\u001b[2;36m                    \u001b[0m         linear-learner-\u001b[1;36m2025\u001b[0m-03-18-06-31-12-425                                 \u001b[2m               \u001b[0m\n"
      ]
     },
     "metadata": {},
     "output_type": "display_data"
    },
    {
     "name": "stdout",
     "output_type": "stream",
     "text": [
      "2025-03-18 06:31:12 Starting - Starting the training job......\n",
      "..25-03-18 06:32:16 Downloading - Downloading input data.\n",
      "...........06:32:41 Downloading - Downloading the training image.\n",
      ".\u001b[34mDocker entrypoint called with argument(s): train\u001b[0mpleted. Training in progress..\n",
      "\u001b[34mRunning default environment configuration script\u001b[0m\n",
      "\u001b[34m[03/18/2025 06:34:57 INFO 140333394597696] Reading default configuration from /opt/amazon/lib/python3.8/site-packages/algorithm/resources/default-input.json: {'mini_batch_size': '1000', 'epochs': '15', 'feature_dim': 'auto', 'use_bias': 'true', 'binary_classifier_model_selection_criteria': 'accuracy', 'f_beta': '1.0', 'target_recall': '0.8', 'target_precision': '0.8', 'num_models': 'auto', 'num_calibration_samples': '10000000', 'init_method': 'uniform', 'init_scale': '0.07', 'init_sigma': '0.01', 'init_bias': '0.0', 'optimizer': 'auto', 'loss': 'auto', 'margin': '1.0', 'quantile': '0.5', 'loss_insensitivity': '0.01', 'huber_delta': '1.0', 'num_classes': '1', 'accuracy_top_k': '3', 'wd': 'auto', 'l1': 'auto', 'momentum': 'auto', 'learning_rate': 'auto', 'beta_1': 'auto', 'beta_2': 'auto', 'bias_lr_mult': 'auto', 'bias_wd_mult': 'auto', 'use_lr_scheduler': 'true', 'lr_scheduler_step': 'auto', 'lr_scheduler_factor': 'auto', 'lr_scheduler_minimum_lr': 'auto', 'positive_example_weight_mult': '1.0', 'balance_multiclass_weights': 'false', 'normalize_data': 'true', 'normalize_label': 'auto', 'unbias_data': 'auto', 'unbias_label': 'auto', 'num_point_for_scaler': '10000', '_kvstore': 'auto', '_num_gpus': 'auto', '_num_kv_servers': 'auto', '_log_level': 'info', '_tuning_objective_metric': '', 'early_stopping_patience': '3', 'early_stopping_tolerance': '0.001', '_enable_profiler': 'false'}\u001b[0m\n",
      "\u001b[34m[03/18/2025 06:34:57 INFO 140333394597696] Merging with provided configuration from /opt/ml/input/config/hyperparameters.json: {'epochs': '6', 'feature_dim': '1', 'loss': 'absolute_loss', 'mini_batch_size': '4', 'num_models': '32', 'predictor_type': 'regressor'}\u001b[0m\n",
      "\u001b[34m[03/18/2025 06:34:57 INFO 140333394597696] Final configuration: {'mini_batch_size': '4', 'epochs': '6', 'feature_dim': '1', 'use_bias': 'true', 'binary_classifier_model_selection_criteria': 'accuracy', 'f_beta': '1.0', 'target_recall': '0.8', 'target_precision': '0.8', 'num_models': '32', 'num_calibration_samples': '10000000', 'init_method': 'uniform', 'init_scale': '0.07', 'init_sigma': '0.01', 'init_bias': '0.0', 'optimizer': 'auto', 'loss': 'absolute_loss', 'margin': '1.0', 'quantile': '0.5', 'loss_insensitivity': '0.01', 'huber_delta': '1.0', 'num_classes': '1', 'accuracy_top_k': '3', 'wd': 'auto', 'l1': 'auto', 'momentum': 'auto', 'learning_rate': 'auto', 'beta_1': 'auto', 'beta_2': 'auto', 'bias_lr_mult': 'auto', 'bias_wd_mult': 'auto', 'use_lr_scheduler': 'true', 'lr_scheduler_step': 'auto', 'lr_scheduler_factor': 'auto', 'lr_scheduler_minimum_lr': 'auto', 'positive_example_weight_mult': '1.0', 'balance_multiclass_weights': 'false', 'normalize_data': 'true', 'normalize_label': 'auto', 'unbias_data': 'auto', 'unbias_label': 'auto', 'num_point_for_scaler': '10000', '_kvstore': 'auto', '_num_gpus': 'auto', '_num_kv_servers': 'auto', '_log_level': 'info', '_tuning_objective_metric': '', 'early_stopping_patience': '3', 'early_stopping_tolerance': '0.001', '_enable_profiler': 'false', 'predictor_type': 'regressor'}\u001b[0m\n",
      "\u001b[34m/opt/amazon/lib/python3.8/site-packages/mxnet/model.py:97: SyntaxWarning: \"is\" with a literal. Did you mean \"==\"?\n",
      "  if num_device is 1 and 'dist' not in kvstore:\u001b[0m\n",
      "\u001b[34m/opt/amazon/lib/python3.8/site-packages/scipy/optimize/_shgo.py:495: SyntaxWarning: \"is\" with a literal. Did you mean \"==\"?\n",
      "  if cons['type'] is 'ineq':\u001b[0m\n",
      "\u001b[34m/opt/amazon/lib/python3.8/site-packages/scipy/optimize/_shgo.py:743: SyntaxWarning: \"is not\" with a literal. Did you mean \"!=\"?\n",
      "  if len(self.X_min) is not 0:\u001b[0m\n",
      "\u001b[34m[03/18/2025 06:35:00 WARNING 140333394597696] Loggers have already been setup.\u001b[0m\n",
      "\u001b[34m[03/18/2025 06:35:00 INFO 140333394597696] Final configuration: {'mini_batch_size': '4', 'epochs': '6', 'feature_dim': '1', 'use_bias': 'true', 'binary_classifier_model_selection_criteria': 'accuracy', 'f_beta': '1.0', 'target_recall': '0.8', 'target_precision': '0.8', 'num_models': '32', 'num_calibration_samples': '10000000', 'init_method': 'uniform', 'init_scale': '0.07', 'init_sigma': '0.01', 'init_bias': '0.0', 'optimizer': 'auto', 'loss': 'absolute_loss', 'margin': '1.0', 'quantile': '0.5', 'loss_insensitivity': '0.01', 'huber_delta': '1.0', 'num_classes': '1', 'accuracy_top_k': '3', 'wd': 'auto', 'l1': 'auto', 'momentum': 'auto', 'learning_rate': 'auto', 'beta_1': 'auto', 'beta_2': 'auto', 'bias_lr_mult': 'auto', 'bias_wd_mult': 'auto', 'use_lr_scheduler': 'true', 'lr_scheduler_step': 'auto', 'lr_scheduler_factor': 'auto', 'lr_scheduler_minimum_lr': 'auto', 'positive_example_weight_mult': '1.0', 'balance_multiclass_weights': 'false', 'normalize_data': 'true', 'normalize_label': 'auto', 'unbias_data': 'auto', 'unbias_label': 'auto', 'num_point_for_scaler': '10000', '_kvstore': 'auto', '_num_gpus': 'auto', '_num_kv_servers': 'auto', '_log_level': 'info', '_tuning_objective_metric': '', 'early_stopping_patience': '3', 'early_stopping_tolerance': '0.001', '_enable_profiler': 'false', 'predictor_type': 'regressor'}\u001b[0m\n",
      "\u001b[34m[03/18/2025 06:35:00 WARNING 140333394597696] Loggers have already been setup.\u001b[0m\n",
      "\u001b[34mProcess 7 is a worker.\u001b[0m\n",
      "\u001b[34m[03/18/2025 06:35:00 INFO 140333394597696] Using default worker.\u001b[0m\n",
      "\u001b[34m[03/18/2025 06:35:00 INFO 140333394597696] Checkpoint loading and saving are disabled.\u001b[0m\n",
      "\u001b[34m[2025-03-18 06:35:00.316] [tensorio] [info] epoch_stats={\"data_pipeline\": \"/opt/ml/input/data/train\", \"epoch\": 0, \"duration\": 10, \"num_examples\": 1, \"num_bytes\": 192}\u001b[0m\n",
      "\u001b[34m[03/18/2025 06:35:00 INFO 140333394597696] Create Store: local\u001b[0m\n",
      "\u001b[34m[2025-03-18 06:35:00.327] [tensorio] [info] epoch_stats={\"data_pipeline\": \"/opt/ml/input/data/train\", \"epoch\": 1, \"duration\": 10, \"num_examples\": 2, \"num_bytes\": 240}\u001b[0m\n",
      "\u001b[34m[03/18/2025 06:35:00 INFO 140333394597696] Scaler algorithm parameters\n",
      " <algorithm.scaler.ScalerAlgorithmStable object at 0x7fa159523490>\u001b[0m\n",
      "\u001b[34m[03/18/2025 06:35:00 INFO 140333394597696] Scaling model computed with parameters:\n",
      " {'stdev_label': \u001b[0m\n",
      "\u001b[34m[17.697104]\u001b[0m\n",
      "\u001b[34m<NDArray 1 @cpu(0)>, 'stdev_weight': \u001b[0m\n",
      "\u001b[34m[1.7414075]\u001b[0m\n",
      "\u001b[34m<NDArray 1 @cpu(0)>, 'mean_label': \u001b[0m\n",
      "\u001b[34m[52.75]\u001b[0m\n",
      "\u001b[34m<NDArray 1 @cpu(0)>, 'mean_weight': \u001b[0m\n",
      "\u001b[34m[5.3500004]\u001b[0m\n",
      "\u001b[34m<NDArray 1 @cpu(0)>}\u001b[0m\n",
      "\u001b[34m/opt/amazon/python3.8/lib/python3.8/subprocess.py:848: RuntimeWarning: line buffering (buffering=1) isn't supported in binary mode, the default buffer size will be used\n",
      "  self.stdout = io.open(c2pread, 'rb', bufsize)\u001b[0m\n",
      "\u001b[34m[03/18/2025 06:35:00 INFO 140333394597696] nvidia-smi: took 0.031 seconds to run.\u001b[0m\n",
      "\u001b[34m[03/18/2025 06:35:00 INFO 140333394597696] nvidia-smi identified 0 GPUs.\u001b[0m\n",
      "\u001b[34m[03/18/2025 06:35:00 INFO 140333394597696] Number of GPUs being used: 0\u001b[0m\n",
      "\u001b[34m#metrics {\"StartTime\": 1742279700.413026, \"EndTime\": 1742279700.4130592, \"Dimensions\": {\"Algorithm\": \"Linear Learner\", \"Host\": \"algo-1\", \"Operation\": \"training\", \"Meta\": \"init_train_data_iter\"}, \"Metrics\": {\"Total Records Seen\": {\"sum\": 9.0, \"count\": 1, \"min\": 9, \"max\": 9}, \"Total Batches Seen\": {\"sum\": 3.0, \"count\": 1, \"min\": 3, \"max\": 3}, \"Max Records Seen Between Resets\": {\"sum\": 5.0, \"count\": 1, \"min\": 5, \"max\": 5}, \"Max Batches Seen Between Resets\": {\"sum\": 2.0, \"count\": 1, \"min\": 2, \"max\": 2}, \"Reset Count\": {\"sum\": 2.0, \"count\": 1, \"min\": 2, \"max\": 2}, \"Number of Records Since Last Reset\": {\"sum\": 0.0, \"count\": 1, \"min\": 0, \"max\": 0}, \"Number of Batches Since Last Reset\": {\"sum\": 0.0, \"count\": 1, \"min\": 0, \"max\": 0}}}\u001b[0m\n",
      "\u001b[34m[2025-03-18 06:35:00.435] [tensorio] [info] epoch_stats={\"data_pipeline\": \"/opt/ml/input/data/train\", \"epoch\": 4, \"duration\": 21, \"num_examples\": 2, \"num_bytes\": 240}\u001b[0m\n",
      "\u001b[34m#metrics {\"StartTime\": 1742279700.4353914, \"EndTime\": 1742279700.4354537, \"Dimensions\": {\"Algorithm\": \"Linear Learner\", \"Host\": \"algo-1\", \"Operation\": \"training\", \"epoch\": 0, \"model\": 0}, \"Metrics\": {\"train_absolute_loss_objective\": {\"sum\": 0.8287604451179504, \"count\": 1, \"min\": 0.8287604451179504, \"max\": 0.8287604451179504}}}\u001b[0m\n",
      "\u001b[34m#metrics {\"StartTime\": 1742279700.4355233, \"EndTime\": 1742279700.4355352, \"Dimensions\": {\"Algorithm\": \"Linear Learner\", \"Host\": \"algo-1\", \"Operation\": \"training\", \"epoch\": 0, \"model\": 1}, \"Metrics\": {\"train_absolute_loss_objective\": {\"sum\": 0.8446238040924072, \"count\": 1, \"min\": 0.8446238040924072, \"max\": 0.8446238040924072}}}\u001b[0m\n",
      "\u001b[34m#metrics {\"StartTime\": 1742279700.4355683, \"EndTime\": 1742279700.435577, \"Dimensions\": {\"Algorithm\": \"Linear Learner\", \"Host\": \"algo-1\", \"Operation\": \"training\", \"epoch\": 0, \"model\": 2}, \"Metrics\": {\"train_absolute_loss_objective\": {\"sum\": 0.830682098865509, \"count\": 1, \"min\": 0.830682098865509, \"max\": 0.830682098865509}}}\u001b[0m\n",
      "\u001b[34m#metrics {\"StartTime\": 1742279700.4356067, \"EndTime\": 1742279700.435615, \"Dimensions\": {\"Algorithm\": \"Linear Learner\", \"Host\": \"algo-1\", \"Operation\": \"training\", \"epoch\": 0, \"model\": 3}, \"Metrics\": {\"train_absolute_loss_objective\": {\"sum\": 0.8438131213188171, \"count\": 1, \"min\": 0.8438131213188171, \"max\": 0.8438131213188171}}}\u001b[0m\n",
      "\u001b[34m#metrics {\"StartTime\": 1742279700.4356427, \"EndTime\": 1742279700.4356503, \"Dimensions\": {\"Algorithm\": \"Linear Learner\", \"Host\": \"algo-1\", \"Operation\": \"training\", \"epoch\": 0, \"model\": 4}, \"Metrics\": {\"train_absolute_loss_objective\": {\"sum\": 0.7924108505249023, \"count\": 1, \"min\": 0.7924108505249023, \"max\": 0.7924108505249023}}}\u001b[0m\n",
      "\u001b[34m#metrics {\"StartTime\": 1742279700.4357314, \"EndTime\": 1742279700.4357455, \"Dimensions\": {\"Algorithm\": \"Linear Learner\", \"Host\": \"algo-1\", \"Operation\": \"training\", \"epoch\": 0, \"model\": 5}, \"Metrics\": {\"train_absolute_loss_objective\": {\"sum\": 0.8010469675064087, \"count\": 1, \"min\": 0.8010469675064087, \"max\": 0.8010469675064087}}}\u001b[0m\n",
      "\u001b[34m#metrics {\"StartTime\": 1742279700.4358072, \"EndTime\": 1742279700.4358165, \"Dimensions\": {\"Algorithm\": \"Linear Learner\", \"Host\": \"algo-1\", \"Operation\": \"training\", \"epoch\": 0, \"model\": 6}, \"Metrics\": {\"train_absolute_loss_objective\": {\"sum\": 0.8748534321784973, \"count\": 1, \"min\": 0.8748534321784973, \"max\": 0.8748534321784973}}}\u001b[0m\n",
      "\u001b[34m#metrics {\"StartTime\": 1742279700.4358685, \"EndTime\": 1742279700.4358785, \"Dimensions\": {\"Algorithm\": \"Linear Learner\", \"Host\": \"algo-1\", \"Operation\": \"training\", \"epoch\": 0, \"model\": 7}, \"Metrics\": {\"train_absolute_loss_objective\": {\"sum\": 0.8491567373275757, \"count\": 1, \"min\": 0.8491567373275757, \"max\": 0.8491567373275757}}}\u001b[0m\n",
      "\u001b[34m#metrics {\"StartTime\": 1742279700.4359329, \"EndTime\": 1742279700.4359424, \"Dimensions\": {\"Algorithm\": \"Linear Learner\", \"Host\": \"algo-1\", \"Operation\": \"training\", \"epoch\": 0, \"model\": 8}, \"Metrics\": {\"train_absolute_loss_objective\": {\"sum\": 0.8733009099960327, \"count\": 1, \"min\": 0.8733009099960327, \"max\": 0.8733009099960327}}}\u001b[0m\n",
      "\u001b[34m#metrics {\"StartTime\": 1742279700.4359787, \"EndTime\": 1742279700.4359875, \"Dimensions\": {\"Algorithm\": \"Linear Learner\", \"Host\": \"algo-1\", \"Operation\": \"training\", \"epoch\": 0, \"model\": 9}, \"Metrics\": {\"train_absolute_loss_objective\": {\"sum\": 0.8191750049591064, \"count\": 1, \"min\": 0.8191750049591064, \"max\": 0.8191750049591064}}}\u001b[0m\n",
      "\u001b[34m#metrics {\"StartTime\": 1742279700.436057, \"EndTime\": 1742279700.4360697, \"Dimensions\": {\"Algorithm\": \"Linear Learner\", \"Host\": \"algo-1\", \"Operation\": \"training\", \"epoch\": 0, \"model\": 10}, \"Metrics\": {\"train_absolute_loss_objective\": {\"sum\": 0.8245126605033875, \"count\": 1, \"min\": 0.8245126605033875, \"max\": 0.8245126605033875}}}\u001b[0m\n",
      "\u001b[34m#metrics {\"StartTime\": 1742279700.4361103, \"EndTime\": 1742279700.43612, \"Dimensions\": {\"Algorithm\": \"Linear Learner\", \"Host\": \"algo-1\", \"Operation\": \"training\", \"epoch\": 0, \"model\": 11}, \"Metrics\": {\"train_absolute_loss_objective\": {\"sum\": 0.8127095699310303, \"count\": 1, \"min\": 0.8127095699310303, \"max\": 0.8127095699310303}}}\u001b[0m\n",
      "\u001b[34m#metrics {\"StartTime\": 1742279700.436147, \"EndTime\": 1742279700.436155, \"Dimensions\": {\"Algorithm\": \"Linear Learner\", \"Host\": \"algo-1\", \"Operation\": \"training\", \"epoch\": 0, \"model\": 12}, \"Metrics\": {\"train_absolute_loss_objective\": {\"sum\": 0.8002570867538452, \"count\": 1, \"min\": 0.8002570867538452, \"max\": 0.8002570867538452}}}\u001b[0m\n",
      "\u001b[34m#metrics {\"StartTime\": 1742279700.436213, \"EndTime\": 1742279700.4362223, \"Dimensions\": {\"Algorithm\": \"Linear Learner\", \"Host\": \"algo-1\", \"Operation\": \"training\", \"epoch\": 0, \"model\": 13}, \"Metrics\": {\"train_absolute_loss_objective\": {\"sum\": 0.8235557079315186, \"count\": 1, \"min\": 0.8235557079315186, \"max\": 0.8235557079315186}}}\u001b[0m\n",
      "\u001b[34m#metrics {\"StartTime\": 1742279700.4362803, \"EndTime\": 1742279700.43629, \"Dimensions\": {\"Algorithm\": \"Linear Learner\", \"Host\": \"algo-1\", \"Operation\": \"training\", \"epoch\": 0, \"model\": 14}, \"Metrics\": {\"train_absolute_loss_objective\": {\"sum\": 0.7989373207092285, \"count\": 1, \"min\": 0.7989373207092285, \"max\": 0.7989373207092285}}}\u001b[0m\n",
      "\u001b[34m#metrics {\"StartTime\": 1742279700.4363601, \"EndTime\": 1742279700.436372, \"Dimensions\": {\"Algorithm\": \"Linear Learner\", \"Host\": \"algo-1\", \"Operation\": \"training\", \"epoch\": 0, \"model\": 15}, \"Metrics\": {\"train_absolute_loss_objective\": {\"sum\": 0.8291396498680115, \"count\": 1, \"min\": 0.8291396498680115, \"max\": 0.8291396498680115}}}\u001b[0m\n",
      "\u001b[34m#metrics {\"StartTime\": 1742279700.4364047, \"EndTime\": 1742279700.4364133, \"Dimensions\": {\"Algorithm\": \"Linear Learner\", \"Host\": \"algo-1\", \"Operation\": \"training\", \"epoch\": 0, \"model\": 16}, \"Metrics\": {\"train_absolute_loss_objective\": {\"sum\": 0.7999690771102905, \"count\": 1, \"min\": 0.7999690771102905, \"max\": 0.7999690771102905}}}\u001b[0m\n",
      "\u001b[34m#metrics {\"StartTime\": 1742279700.4364653, \"EndTime\": 1742279700.4364743, \"Dimensions\": {\"Algorithm\": \"Linear Learner\", \"Host\": \"algo-1\", \"Operation\": \"training\", \"epoch\": 0, \"model\": 17}, \"Metrics\": {\"train_absolute_loss_objective\": {\"sum\": 0.8408349752426147, \"count\": 1, \"min\": 0.8408349752426147, \"max\": 0.8408349752426147}}}\u001b[0m\n",
      "\u001b[34m#metrics {\"StartTime\": 1742279700.436532, \"EndTime\": 1742279700.436541, \"Dimensions\": {\"Algorithm\": \"Linear Learner\", \"Host\": \"algo-1\", \"Operation\": \"training\", \"epoch\": 0, \"model\": 18}, \"Metrics\": {\"train_absolute_loss_objective\": {\"sum\": 0.8215490579605103, \"count\": 1, \"min\": 0.8215490579605103, \"max\": 0.8215490579605103}}}\u001b[0m\n",
      "\u001b[34m#metrics {\"StartTime\": 1742279700.4365892, \"EndTime\": 1742279700.4365993, \"Dimensions\": {\"Algorithm\": \"Linear Learner\", \"Host\": \"algo-1\", \"Operation\": \"training\", \"epoch\": 0, \"model\": 19}, \"Metrics\": {\"train_absolute_loss_objective\": {\"sum\": 0.8193947672843933, \"count\": 1, \"min\": 0.8193947672843933, \"max\": 0.8193947672843933}}}\u001b[0m\n",
      "\u001b[34m#metrics {\"StartTime\": 1742279700.4366345, \"EndTime\": 1742279700.436643, \"Dimensions\": {\"Algorithm\": \"Linear Learner\", \"Host\": \"algo-1\", \"Operation\": \"training\", \"epoch\": 0, \"model\": 20}, \"Metrics\": {\"train_absolute_loss_objective\": {\"sum\": 0.8394908905029297, \"count\": 1, \"min\": 0.8394908905029297, \"max\": 0.8394908905029297}}}\u001b[0m\n",
      "\u001b[34m#metrics {\"StartTime\": 1742279700.4367003, \"EndTime\": 1742279700.43671, \"Dimensions\": {\"Algorithm\": \"Linear Learner\", \"Host\": \"algo-1\", \"Operation\": \"training\", \"epoch\": 0, \"model\": 21}, \"Metrics\": {\"train_absolute_loss_objective\": {\"sum\": 0.8530023097991943, \"count\": 1, \"min\": 0.8530023097991943, \"max\": 0.8530023097991943}}}\u001b[0m\n",
      "\u001b[34m#metrics {\"StartTime\": 1742279700.436747, \"EndTime\": 1742279700.4367552, \"Dimensions\": {\"Algorithm\": \"Linear Learner\", \"Host\": \"algo-1\", \"Operation\": \"training\", \"epoch\": 0, \"model\": 22}, \"Metrics\": {\"train_absolute_loss_objective\": {\"sum\": 0.7956739664077759, \"count\": 1, \"min\": 0.7956739664077759, \"max\": 0.7956739664077759}}}\u001b[0m\n",
      "\u001b[34m#metrics {\"StartTime\": 1742279700.4368098, \"EndTime\": 1742279700.4368196, \"Dimensions\": {\"Algorithm\": \"Linear Learner\", \"Host\": \"algo-1\", \"Operation\": \"training\", \"epoch\": 0, \"model\": 23}, \"Metrics\": {\"train_absolute_loss_objective\": {\"sum\": 0.8762352466583252, \"count\": 1, \"min\": 0.8762352466583252, \"max\": 0.8762352466583252}}}\u001b[0m\n",
      "\u001b[34m#metrics {\"StartTime\": 1742279700.4368553, \"EndTime\": 1742279700.4368656, \"Dimensions\": {\"Algorithm\": \"Linear Learner\", \"Host\": \"algo-1\", \"Operation\": \"training\", \"epoch\": 0, \"model\": 24}, \"Metrics\": {\"train_absolute_loss_objective\": {\"sum\": 0.7887384295463562, \"count\": 1, \"min\": 0.7887384295463562, \"max\": 0.7887384295463562}}}\u001b[0m\n",
      "\u001b[34m#metrics {\"StartTime\": 1742279700.4368923, \"EndTime\": 1742279700.4369001, \"Dimensions\": {\"Algorithm\": \"Linear Learner\", \"Host\": \"algo-1\", \"Operation\": \"training\", \"epoch\": 0, \"model\": 25}, \"Metrics\": {\"train_absolute_loss_objective\": {\"sum\": 0.855402410030365, \"count\": 1, \"min\": 0.855402410030365, \"max\": 0.855402410030365}}}\u001b[0m\n",
      "\u001b[34m#metrics {\"StartTime\": 1742279700.4369352, \"EndTime\": 1742279700.4369447, \"Dimensions\": {\"Algorithm\": \"Linear Learner\", \"Host\": \"algo-1\", \"Operation\": \"training\", \"epoch\": 0, \"model\": 26}, \"Metrics\": {\"train_absolute_loss_objective\": {\"sum\": 0.8447145223617554, \"count\": 1, \"min\": 0.8447145223617554, \"max\": 0.8447145223617554}}}\u001b[0m\n",
      "\u001b[34m#metrics {\"StartTime\": 1742279700.4369721, \"EndTime\": 1742279700.4369795, \"Dimensions\": {\"Algorithm\": \"Linear Learner\", \"Host\": \"algo-1\", \"Operation\": \"training\", \"epoch\": 0, \"model\": 27}, \"Metrics\": {\"train_absolute_loss_objective\": {\"sum\": 0.8356244564056396, \"count\": 1, \"min\": 0.8356244564056396, \"max\": 0.8356244564056396}}}\u001b[0m\n",
      "\u001b[34m#metrics {\"StartTime\": 1742279700.4370127, \"EndTime\": 1742279700.4370213, \"Dimensions\": {\"Algorithm\": \"Linear Learner\", \"Host\": \"algo-1\", \"Operation\": \"training\", \"epoch\": 0, \"model\": 28}, \"Metrics\": {\"train_absolute_loss_objective\": {\"sum\": 0.8053259253501892, \"count\": 1, \"min\": 0.8053259253501892, \"max\": 0.8053259253501892}}}\u001b[0m\n",
      "\u001b[34m#metrics {\"StartTime\": 1742279700.4370782, \"EndTime\": 1742279700.4370887, \"Dimensions\": {\"Algorithm\": \"Linear Learner\", \"Host\": \"algo-1\", \"Operation\": \"training\", \"epoch\": 0, \"model\": 29}, \"Metrics\": {\"train_absolute_loss_objective\": {\"sum\": 0.8033536672592163, \"count\": 1, \"min\": 0.8033536672592163, \"max\": 0.8033536672592163}}}\u001b[0m\n",
      "\u001b[34m#metrics {\"StartTime\": 1742279700.437124, \"EndTime\": 1742279700.4371338, \"Dimensions\": {\"Algorithm\": \"Linear Learner\", \"Host\": \"algo-1\", \"Operation\": \"training\", \"epoch\": 0, \"model\": 30}, \"Metrics\": {\"train_absolute_loss_objective\": {\"sum\": 0.8354014158248901, \"count\": 1, \"min\": 0.8354014158248901, \"max\": 0.8354014158248901}}}\u001b[0m\n",
      "\u001b[34m#metrics {\"StartTime\": 1742279700.4371936, \"EndTime\": 1742279700.4372036, \"Dimensions\": {\"Algorithm\": \"Linear Learner\", \"Host\": \"algo-1\", \"Operation\": \"training\", \"epoch\": 0, \"model\": 31}, \"Metrics\": {\"train_absolute_loss_objective\": {\"sum\": 0.8269051909446716, \"count\": 1, \"min\": 0.8269051909446716, \"max\": 0.8269051909446716}}}\u001b[0m\n",
      "\u001b[34m[03/18/2025 06:35:00 INFO 140333394597696] #quality_metric: host=algo-1, epoch=0, train absolute_loss_objective <loss>=0.8287604451179504\u001b[0m\n",
      "\u001b[34m[03/18/2025 06:35:00 INFO 140333394597696] #early_stopping_criteria_metric: host=algo-1, epoch=0, criteria=absolute_loss_objective, value=0.7887384295463562\u001b[0m\n",
      "\u001b[34m[03/18/2025 06:35:00 INFO 140333394597696] Epoch 0: Loss improved. Updating best model\u001b[0m\n",
      "\u001b[34m[03/18/2025 06:35:00 INFO 140333394597696] Saving model for epoch: 0\u001b[0m\n",
      "\u001b[34m[03/18/2025 06:35:00 INFO 140333394597696] Saved checkpoint to \"/tmp/tmpeg807_ne/mx-mod-0000.params\"\u001b[0m\n",
      "\u001b[34m[03/18/2025 06:35:00 INFO 140333394597696] #progress_metric: host=algo-1, completed 16.666666666666668 % of epochs\u001b[0m\n",
      "\u001b[34m#metrics {\"StartTime\": 1742279700.413278, \"EndTime\": 1742279700.444116, \"Dimensions\": {\"Algorithm\": \"Linear Learner\", \"Host\": \"algo-1\", \"Operation\": \"training\", \"epoch\": 0, \"Meta\": \"training_data_iter\"}, \"Metrics\": {\"Total Records Seen\": {\"sum\": 14.0, \"count\": 1, \"min\": 14, \"max\": 14}, \"Total Batches Seen\": {\"sum\": 5.0, \"count\": 1, \"min\": 5, \"max\": 5}, \"Max Records Seen Between Resets\": {\"sum\": 5.0, \"count\": 1, \"min\": 5, \"max\": 5}, \"Max Batches Seen Between Resets\": {\"sum\": 2.0, \"count\": 1, \"min\": 2, \"max\": 2}, \"Reset Count\": {\"sum\": 3.0, \"count\": 1, \"min\": 3, \"max\": 3}, \"Number of Records Since Last Reset\": {\"sum\": 5.0, \"count\": 1, \"min\": 5, \"max\": 5}, \"Number of Batches Since Last Reset\": {\"sum\": 2.0, \"count\": 1, \"min\": 2, \"max\": 2}}}\u001b[0m\n",
      "\u001b[34m[03/18/2025 06:35:00 INFO 140333394597696] #throughput_metric: host=algo-1, train throughput=161.66136057043747 records/second\u001b[0m\n",
      "\u001b[34m[2025-03-18 06:35:00.457] [tensorio] [info] epoch_stats={\"data_pipeline\": \"/opt/ml/input/data/train\", \"epoch\": 6, \"duration\": 13, \"num_examples\": 2, \"num_bytes\": 240}\u001b[0m\n",
      "\u001b[34m#metrics {\"StartTime\": 1742279700.4577272, \"EndTime\": 1742279700.4577718, \"Dimensions\": {\"Algorithm\": \"Linear Learner\", \"Host\": \"algo-1\", \"Operation\": \"training\", \"epoch\": 1, \"model\": 0}, \"Metrics\": {\"train_absolute_loss_objective\": {\"sum\": 0.825314998626709, \"count\": 1, \"min\": 0.825314998626709, \"max\": 0.825314998626709}}}\u001b[0m\n",
      "\u001b[34m#metrics {\"StartTime\": 1742279700.4578505, \"EndTime\": 1742279700.4578624, \"Dimensions\": {\"Algorithm\": \"Linear Learner\", \"Host\": \"algo-1\", \"Operation\": \"training\", \"epoch\": 1, \"model\": 1}, \"Metrics\": {\"train_absolute_loss_objective\": {\"sum\": 0.841178297996521, \"count\": 1, \"min\": 0.841178297996521, \"max\": 0.841178297996521}}}\u001b[0m\n",
      "\u001b[34m#metrics {\"StartTime\": 1742279700.4578996, \"EndTime\": 1742279700.4579086, \"Dimensions\": {\"Algorithm\": \"Linear Learner\", \"Host\": \"algo-1\", \"Operation\": \"training\", \"epoch\": 1, \"model\": 2}, \"Metrics\": {\"train_absolute_loss_objective\": {\"sum\": 0.8272365927696228, \"count\": 1, \"min\": 0.8272365927696228, \"max\": 0.8272365927696228}}}\u001b[0m\n",
      "\u001b[34m#metrics {\"StartTime\": 1742279700.4579666, \"EndTime\": 1742279700.4579747, \"Dimensions\": {\"Algorithm\": \"Linear Learner\", \"Host\": \"algo-1\", \"Operation\": \"training\", \"epoch\": 1, \"model\": 3}, \"Metrics\": {\"train_absolute_loss_objective\": {\"sum\": 0.8403676748275757, \"count\": 1, \"min\": 0.8403676748275757, \"max\": 0.8403676748275757}}}\u001b[0m\n",
      "\u001b[34m#metrics {\"StartTime\": 1742279700.4580288, \"EndTime\": 1742279700.458038, \"Dimensions\": {\"Algorithm\": \"Linear Learner\", \"Host\": \"algo-1\", \"Operation\": \"training\", \"epoch\": 1, \"model\": 4}, \"Metrics\": {\"train_absolute_loss_objective\": {\"sum\": 0.7235006093978882, \"count\": 1, \"min\": 0.7235006093978882, \"max\": 0.7235006093978882}}}\u001b[0m\n",
      "\u001b[34m#metrics {\"StartTime\": 1742279700.4580958, \"EndTime\": 1742279700.458105, \"Dimensions\": {\"Algorithm\": \"Linear Learner\", \"Host\": \"algo-1\", \"Operation\": \"training\", \"epoch\": 1, \"model\": 5}, \"Metrics\": {\"train_absolute_loss_objective\": {\"sum\": 0.7321367263793945, \"count\": 1, \"min\": 0.7321367263793945, \"max\": 0.7321367263793945}}}\u001b[0m\n",
      "\u001b[34m#metrics {\"StartTime\": 1742279700.458153, \"EndTime\": 1742279700.4581594, \"Dimensions\": {\"Algorithm\": \"Linear Learner\", \"Host\": \"algo-1\", \"Operation\": \"training\", \"epoch\": 1, \"model\": 6}, \"Metrics\": {\"train_absolute_loss_objective\": {\"sum\": 0.8059432506561279, \"count\": 1, \"min\": 0.8059432506561279, \"max\": 0.8059432506561279}}}\u001b[0m\n",
      "\u001b[34m#metrics {\"StartTime\": 1742279700.4581852, \"EndTime\": 1742279700.4581926, \"Dimensions\": {\"Algorithm\": \"Linear Learner\", \"Host\": \"algo-1\", \"Operation\": \"training\", \"epoch\": 1, \"model\": 7}, \"Metrics\": {\"train_absolute_loss_objective\": {\"sum\": 0.7802464962005615, \"count\": 1, \"min\": 0.7802464962005615, \"max\": 0.7802464962005615}}}\u001b[0m\n",
      "\u001b[34m#metrics {\"StartTime\": 1742279700.45822, \"EndTime\": 1742279700.4582276, \"Dimensions\": {\"Algorithm\": \"Linear Learner\", \"Host\": \"algo-1\", \"Operation\": \"training\", \"epoch\": 1, \"model\": 8}, \"Metrics\": {\"train_absolute_loss_objective\": {\"sum\": 0.8698554039001465, \"count\": 1, \"min\": 0.8698554039001465, \"max\": 0.8698554039001465}}}\u001b[0m\n",
      "\u001b[34m#metrics {\"StartTime\": 1742279700.458252, \"EndTime\": 1742279700.4582593, \"Dimensions\": {\"Algorithm\": \"Linear Learner\", \"Host\": \"algo-1\", \"Operation\": \"training\", \"epoch\": 1, \"model\": 9}, \"Metrics\": {\"train_absolute_loss_objective\": {\"sum\": 0.8157294988632202, \"count\": 1, \"min\": 0.8157294988632202, \"max\": 0.8157294988632202}}}\u001b[0m\n",
      "\u001b[34m#metrics {\"StartTime\": 1742279700.4582841, \"EndTime\": 1742279700.4582918, \"Dimensions\": {\"Algorithm\": \"Linear Learner\", \"Host\": \"algo-1\", \"Operation\": \"training\", \"epoch\": 1, \"model\": 10}, \"Metrics\": {\"train_absolute_loss_objective\": {\"sum\": 0.8210670948028564, \"count\": 1, \"min\": 0.8210670948028564, \"max\": 0.8210670948028564}}}\u001b[0m\n",
      "\u001b[34m#metrics {\"StartTime\": 1742279700.4583187, \"EndTime\": 1742279700.458326, \"Dimensions\": {\"Algorithm\": \"Linear Learner\", \"Host\": \"algo-1\", \"Operation\": \"training\", \"epoch\": 1, \"model\": 11}, \"Metrics\": {\"train_absolute_loss_objective\": {\"sum\": 0.809264063835144, \"count\": 1, \"min\": 0.809264063835144, \"max\": 0.809264063835144}}}\u001b[0m\n",
      "\u001b[34m#metrics {\"StartTime\": 1742279700.4583833, \"EndTime\": 1742279700.4583929, \"Dimensions\": {\"Algorithm\": \"Linear Learner\", \"Host\": \"algo-1\", \"Operation\": \"training\", \"epoch\": 1, \"model\": 12}, \"Metrics\": {\"train_absolute_loss_objective\": {\"sum\": 0.7313469052314758, \"count\": 1, \"min\": 0.7313469052314758, \"max\": 0.7313469052314758}}}\u001b[0m\n",
      "\u001b[34m#metrics {\"StartTime\": 1742279700.458438, \"EndTime\": 1742279700.4584475, \"Dimensions\": {\"Algorithm\": \"Linear Learner\", \"Host\": \"algo-1\", \"Operation\": \"training\", \"epoch\": 1, \"model\": 13}, \"Metrics\": {\"train_absolute_loss_objective\": {\"sum\": 0.754645586013794, \"count\": 1, \"min\": 0.754645586013794, \"max\": 0.754645586013794}}}\u001b[0m\n",
      "\u001b[34m#metrics {\"StartTime\": 1742279700.4585028, \"EndTime\": 1742279700.4585125, \"Dimensions\": {\"Algorithm\": \"Linear Learner\", \"Host\": \"algo-1\", \"Operation\": \"training\", \"epoch\": 1, \"model\": 14}, \"Metrics\": {\"train_absolute_loss_objective\": {\"sum\": 0.7300271987915039, \"count\": 1, \"min\": 0.7300271987915039, \"max\": 0.7300271987915039}}}\u001b[0m\n",
      "\u001b[34m#metrics {\"StartTime\": 1742279700.458542, \"EndTime\": 1742279700.4585495, \"Dimensions\": {\"Algorithm\": \"Linear Learner\", \"Host\": \"algo-1\", \"Operation\": \"training\", \"epoch\": 1, \"model\": 15}, \"Metrics\": {\"train_absolute_loss_objective\": {\"sum\": 0.7602294683456421, \"count\": 1, \"min\": 0.7602294683456421, \"max\": 0.7602294683456421}}}\u001b[0m\n",
      "\u001b[34m#metrics {\"StartTime\": 1742279700.4586139, \"EndTime\": 1742279700.4586244, \"Dimensions\": {\"Algorithm\": \"Linear Learner\", \"Host\": \"algo-1\", \"Operation\": \"training\", \"epoch\": 1, \"model\": 16}, \"Metrics\": {\"train_absolute_loss_objective\": {\"sum\": 0.7965235710144043, \"count\": 1, \"min\": 0.7965235710144043, \"max\": 0.7965235710144043}}}\u001b[0m\n",
      "\u001b[34m#metrics {\"StartTime\": 1742279700.4586601, \"EndTime\": 1742279700.4586682, \"Dimensions\": {\"Algorithm\": \"Linear Learner\", \"Host\": \"algo-1\", \"Operation\": \"training\", \"epoch\": 1, \"model\": 17}, \"Metrics\": {\"train_absolute_loss_objective\": {\"sum\": 0.8373894691467285, \"count\": 1, \"min\": 0.8373894691467285, \"max\": 0.8373894691467285}}}\u001b[0m\n",
      "\u001b[34m#metrics {\"StartTime\": 1742279700.4587224, \"EndTime\": 1742279700.4587312, \"Dimensions\": {\"Algorithm\": \"Linear Learner\", \"Host\": \"algo-1\", \"Operation\": \"training\", \"epoch\": 1, \"model\": 18}, \"Metrics\": {\"train_absolute_loss_objective\": {\"sum\": 0.818103551864624, \"count\": 1, \"min\": 0.818103551864624, \"max\": 0.818103551864624}}}\u001b[0m\n",
      "\u001b[34m#metrics {\"StartTime\": 1742279700.45876, \"EndTime\": 1742279700.4587681, \"Dimensions\": {\"Algorithm\": \"Linear Learner\", \"Host\": \"algo-1\", \"Operation\": \"training\", \"epoch\": 1, \"model\": 19}, \"Metrics\": {\"train_absolute_loss_objective\": {\"sum\": 0.8159492611885071, \"count\": 1, \"min\": 0.8159492611885071, \"max\": 0.8159492611885071}}}\u001b[0m\n",
      "\u001b[34m#metrics {\"StartTime\": 1742279700.4588294, \"EndTime\": 1742279700.4588387, \"Dimensions\": {\"Algorithm\": \"Linear Learner\", \"Host\": \"algo-1\", \"Operation\": \"training\", \"epoch\": 1, \"model\": 20}, \"Metrics\": {\"train_absolute_loss_objective\": {\"sum\": 0.7705806493759155, \"count\": 1, \"min\": 0.7705806493759155, \"max\": 0.7705806493759155}}}\u001b[0m\n",
      "\u001b[34m#metrics {\"StartTime\": 1742279700.4588735, \"EndTime\": 1742279700.4588826, \"Dimensions\": {\"Algorithm\": \"Linear Learner\", \"Host\": \"algo-1\", \"Operation\": \"training\", \"epoch\": 1, \"model\": 21}, \"Metrics\": {\"train_absolute_loss_objective\": {\"sum\": 0.7840920686721802, \"count\": 1, \"min\": 0.7840920686721802, \"max\": 0.7840920686721802}}}\u001b[0m\n",
      "\u001b[34m#metrics {\"StartTime\": 1742279700.4589524, \"EndTime\": 1742279700.4589646, \"Dimensions\": {\"Algorithm\": \"Linear Learner\", \"Host\": \"algo-1\", \"Operation\": \"training\", \"epoch\": 1, \"model\": 22}, \"Metrics\": {\"train_absolute_loss_objective\": {\"sum\": 0.7267637252807617, \"count\": 1, \"min\": 0.7267637252807617, \"max\": 0.7267637252807617}}}\u001b[0m\n",
      "\u001b[34m#metrics {\"StartTime\": 1742279700.459001, \"EndTime\": 1742279700.4590101, \"Dimensions\": {\"Algorithm\": \"Linear Learner\", \"Host\": \"algo-1\", \"Operation\": \"training\", \"epoch\": 1, \"model\": 23}, \"Metrics\": {\"train_absolute_loss_objective\": {\"sum\": 0.807325005531311, \"count\": 1, \"min\": 0.807325005531311, \"max\": 0.807325005531311}}}\u001b[0m\n",
      "\u001b[34m#metrics {\"StartTime\": 1742279700.4590437, \"EndTime\": 1742279700.4590523, \"Dimensions\": {\"Algorithm\": \"Linear Learner\", \"Host\": \"algo-1\", \"Operation\": \"training\", \"epoch\": 1, \"model\": 24}, \"Metrics\": {\"train_absolute_loss_objective\": {\"sum\": 0.7921839952468872, \"count\": 1, \"min\": 0.7921839952468872, \"max\": 0.7921839952468872}}}\u001b[0m\n",
      "\u001b[34m#metrics {\"StartTime\": 1742279700.4590807, \"EndTime\": 1742279700.4590883, \"Dimensions\": {\"Algorithm\": \"Linear Learner\", \"Host\": \"algo-1\", \"Operation\": \"training\", \"epoch\": 1, \"model\": 25}, \"Metrics\": {\"train_absolute_loss_objective\": {\"sum\": 0.8519569039344788, \"count\": 1, \"min\": 0.8519569039344788, \"max\": 0.8519569039344788}}}\u001b[0m\n",
      "\u001b[34m#metrics {\"StartTime\": 1742279700.4591203, \"EndTime\": 1742279700.4591522, \"Dimensions\": {\"Algorithm\": \"Linear Learner\", \"Host\": \"algo-1\", \"Operation\": \"training\", \"epoch\": 1, \"model\": 26}, \"Metrics\": {\"train_absolute_loss_objective\": {\"sum\": 0.8412690162658691, \"count\": 1, \"min\": 0.8412690162658691, \"max\": 0.8412690162658691}}}\u001b[0m\n",
      "\u001b[34m#metrics {\"StartTime\": 1742279700.4591882, \"EndTime\": 1742279700.4591973, \"Dimensions\": {\"Algorithm\": \"Linear Learner\", \"Host\": \"algo-1\", \"Operation\": \"training\", \"epoch\": 1, \"model\": 27}, \"Metrics\": {\"train_absolute_loss_objective\": {\"sum\": 0.8321788907051086, \"count\": 1, \"min\": 0.8321788907051086, \"max\": 0.8321788907051086}}}\u001b[0m\n",
      "\u001b[34m#metrics {\"StartTime\": 1742279700.4592526, \"EndTime\": 1742279700.4592633, \"Dimensions\": {\"Algorithm\": \"Linear Learner\", \"Host\": \"algo-1\", \"Operation\": \"training\", \"epoch\": 1, \"model\": 28}, \"Metrics\": {\"train_absolute_loss_objective\": {\"sum\": 0.8742361664772034, \"count\": 1, \"min\": 0.8742361664772034, \"max\": 0.8742361664772034}}}\u001b[0m\n",
      "\u001b[34m#metrics {\"StartTime\": 1742279700.4593396, \"EndTime\": 1742279700.4593515, \"Dimensions\": {\"Algorithm\": \"Linear Learner\", \"Host\": \"algo-1\", \"Operation\": \"training\", \"epoch\": 1, \"model\": 29}, \"Metrics\": {\"train_absolute_loss_objective\": {\"sum\": 0.8722639083862305, \"count\": 1, \"min\": 0.8722639083862305, \"max\": 0.8722639083862305}}}\u001b[0m\n",
      "\u001b[34m#metrics {\"StartTime\": 1742279700.4594245, \"EndTime\": 1742279700.4594355, \"Dimensions\": {\"Algorithm\": \"Linear Learner\", \"Host\": \"algo-1\", \"Operation\": \"training\", \"epoch\": 1, \"model\": 30}, \"Metrics\": {\"train_absolute_loss_objective\": {\"sum\": 0.766491174697876, \"count\": 1, \"min\": 0.766491174697876, \"max\": 0.766491174697876}}}\u001b[0m\n",
      "\u001b[34m#metrics {\"StartTime\": 1742279700.4594736, \"EndTime\": 1742279700.4594831, \"Dimensions\": {\"Algorithm\": \"Linear Learner\", \"Host\": \"algo-1\", \"Operation\": \"training\", \"epoch\": 1, \"model\": 31}, \"Metrics\": {\"train_absolute_loss_objective\": {\"sum\": 0.895815372467041, \"count\": 1, \"min\": 0.895815372467041, \"max\": 0.895815372467041}}}\u001b[0m\n",
      "\u001b[34m[03/18/2025 06:35:00 INFO 140333394597696] #quality_metric: host=algo-1, epoch=1, train absolute_loss_objective <loss>=0.825314998626709\u001b[0m\n",
      "\u001b[34m[03/18/2025 06:35:00 INFO 140333394597696] #early_stopping_criteria_metric: host=algo-1, epoch=1, criteria=absolute_loss_objective, value=0.7235006093978882\u001b[0m\n",
      "\u001b[34m[03/18/2025 06:35:00 INFO 140333394597696] Epoch 1: Loss improved. Updating best model\u001b[0m\n",
      "\u001b[34m[03/18/2025 06:35:00 INFO 140333394597696] Saving model for epoch: 1\u001b[0m\n",
      "\u001b[34m[03/18/2025 06:35:00 INFO 140333394597696] Saved checkpoint to \"/tmp/tmprztezrw9/mx-mod-0000.params\"\u001b[0m\n",
      "\u001b[34m[03/18/2025 06:35:00 INFO 140333394597696] #progress_metric: host=algo-1, completed 33.333333333333336 % of epochs\u001b[0m\n",
      "\u001b[34m#metrics {\"StartTime\": 1742279700.444371, \"EndTime\": 1742279700.465965, \"Dimensions\": {\"Algorithm\": \"Linear Learner\", \"Host\": \"algo-1\", \"Operation\": \"training\", \"epoch\": 1, \"Meta\": \"training_data_iter\"}, \"Metrics\": {\"Total Records Seen\": {\"sum\": 19.0, \"count\": 1, \"min\": 19, \"max\": 19}, \"Total Batches Seen\": {\"sum\": 7.0, \"count\": 1, \"min\": 7, \"max\": 7}, \"Max Records Seen Between Resets\": {\"sum\": 5.0, \"count\": 1, \"min\": 5, \"max\": 5}, \"Max Batches Seen Between Resets\": {\"sum\": 2.0, \"count\": 1, \"min\": 2, \"max\": 2}, \"Reset Count\": {\"sum\": 4.0, \"count\": 1, \"min\": 4, \"max\": 4}, \"Number of Records Since Last Reset\": {\"sum\": 5.0, \"count\": 1, \"min\": 5, \"max\": 5}, \"Number of Batches Since Last Reset\": {\"sum\": 2.0, \"count\": 1, \"min\": 2, \"max\": 2}}}\u001b[0m\n",
      "\u001b[34m[03/18/2025 06:35:00 INFO 140333394597696] #throughput_metric: host=algo-1, train throughput=230.47145965668065 records/second\u001b[0m\n",
      "\u001b[34m[2025-03-18 06:35:00.479] [tensorio] [info] epoch_stats={\"data_pipeline\": \"/opt/ml/input/data/train\", \"epoch\": 8, \"duration\": 12, \"num_examples\": 2, \"num_bytes\": 240}\u001b[0m\n",
      "\u001b[34m#metrics {\"StartTime\": 1742279700.4793346, \"EndTime\": 1742279700.4793763, \"Dimensions\": {\"Algorithm\": \"Linear Learner\", \"Host\": \"algo-1\", \"Operation\": \"training\", \"epoch\": 2, \"model\": 0}, \"Metrics\": {\"train_absolute_loss_objective\": {\"sum\": 0.8218694925308228, \"count\": 1, \"min\": 0.8218694925308228, \"max\": 0.8218694925308228}}}\u001b[0m\n",
      "\u001b[34m#metrics {\"StartTime\": 1742279700.4794514, \"EndTime\": 1742279700.4794598, \"Dimensions\": {\"Algorithm\": \"Linear Learner\", \"Host\": \"algo-1\", \"Operation\": \"training\", \"epoch\": 2, \"model\": 1}, \"Metrics\": {\"train_absolute_loss_objective\": {\"sum\": 0.8377327919006348, \"count\": 1, \"min\": 0.8377327919006348, \"max\": 0.8377327919006348}}}\u001b[0m\n",
      "\u001b[34m#metrics {\"StartTime\": 1742279700.4794898, \"EndTime\": 1742279700.4794962, \"Dimensions\": {\"Algorithm\": \"Linear Learner\", \"Host\": \"algo-1\", \"Operation\": \"training\", \"epoch\": 2, \"model\": 2}, \"Metrics\": {\"train_absolute_loss_objective\": {\"sum\": 0.8237911462783813, \"count\": 1, \"min\": 0.8237911462783813, \"max\": 0.8237911462783813}}}\u001b[0m\n",
      "\u001b[34m#metrics {\"StartTime\": 1742279700.479546, \"EndTime\": 1742279700.4795525, \"Dimensions\": {\"Algorithm\": \"Linear Learner\", \"Host\": \"algo-1\", \"Operation\": \"training\", \"epoch\": 2, \"model\": 3}, \"Metrics\": {\"train_absolute_loss_objective\": {\"sum\": 0.8369221687316895, \"count\": 1, \"min\": 0.8369221687316895, \"max\": 0.8369221687316895}}}\u001b[0m\n",
      "\u001b[34m#metrics {\"StartTime\": 1742279700.4795916, \"EndTime\": 1742279700.4795976, \"Dimensions\": {\"Algorithm\": \"Linear Learner\", \"Host\": \"algo-1\", \"Operation\": \"training\", \"epoch\": 2, \"model\": 4}, \"Metrics\": {\"train_absolute_loss_objective\": {\"sum\": 0.6545904278755188, \"count\": 1, \"min\": 0.6545904278755188, \"max\": 0.6545904278755188}}}\u001b[0m\n",
      "\u001b[34m#metrics {\"StartTime\": 1742279700.4796321, \"EndTime\": 1742279700.4796383, \"Dimensions\": {\"Algorithm\": \"Linear Learner\", \"Host\": \"algo-1\", \"Operation\": \"training\", \"epoch\": 2, \"model\": 5}, \"Metrics\": {\"train_absolute_loss_objective\": {\"sum\": 0.6632265448570251, \"count\": 1, \"min\": 0.6632265448570251, \"max\": 0.6632265448570251}}}\u001b[0m\n",
      "\u001b[34m#metrics {\"StartTime\": 1742279700.479658, \"EndTime\": 1742279700.4796634, \"Dimensions\": {\"Algorithm\": \"Linear Learner\", \"Host\": \"algo-1\", \"Operation\": \"training\", \"epoch\": 2, \"model\": 6}, \"Metrics\": {\"train_absolute_loss_objective\": {\"sum\": 0.7370330691337585, \"count\": 1, \"min\": 0.7370330691337585, \"max\": 0.7370330691337585}}}\u001b[0m\n",
      "\u001b[34m#metrics {\"StartTime\": 1742279700.4796813, \"EndTime\": 1742279700.4796867, \"Dimensions\": {\"Algorithm\": \"Linear Learner\", \"Host\": \"algo-1\", \"Operation\": \"training\", \"epoch\": 2, \"model\": 7}, \"Metrics\": {\"train_absolute_loss_objective\": {\"sum\": 0.7113363146781921, \"count\": 1, \"min\": 0.7113363146781921, \"max\": 0.7113363146781921}}}\u001b[0m\n",
      "\u001b[34m#metrics {\"StartTime\": 1742279700.4797096, \"EndTime\": 1742279700.479715, \"Dimensions\": {\"Algorithm\": \"Linear Learner\", \"Host\": \"algo-1\", \"Operation\": \"training\", \"epoch\": 2, \"model\": 8}, \"Metrics\": {\"train_absolute_loss_objective\": {\"sum\": 0.8664098381996155, \"count\": 1, \"min\": 0.8664098381996155, \"max\": 0.8664098381996155}}}\u001b[0m\n",
      "\u001b[34m#metrics {\"StartTime\": 1742279700.4797525, \"EndTime\": 1742279700.4797583, \"Dimensions\": {\"Algorithm\": \"Linear Learner\", \"Host\": \"algo-1\", \"Operation\": \"training\", \"epoch\": 2, \"model\": 9}, \"Metrics\": {\"train_absolute_loss_objective\": {\"sum\": 0.812283992767334, \"count\": 1, \"min\": 0.812283992767334, \"max\": 0.812283992767334}}}\u001b[0m\n",
      "\u001b[34m#metrics {\"StartTime\": 1742279700.4797776, \"EndTime\": 1742279700.4797828, \"Dimensions\": {\"Algorithm\": \"Linear Learner\", \"Host\": \"algo-1\", \"Operation\": \"training\", \"epoch\": 2, \"model\": 10}, \"Metrics\": {\"train_absolute_loss_objective\": {\"sum\": 0.817621648311615, \"count\": 1, \"min\": 0.817621648311615, \"max\": 0.817621648311615}}}\u001b[0m\n",
      "\u001b[34m#metrics {\"StartTime\": 1742279700.479801, \"EndTime\": 1742279700.479806, \"Dimensions\": {\"Algorithm\": \"Linear Learner\", \"Host\": \"algo-1\", \"Operation\": \"training\", \"epoch\": 2, \"model\": 11}, \"Metrics\": {\"train_absolute_loss_objective\": {\"sum\": 0.8058185577392578, \"count\": 1, \"min\": 0.8058185577392578, \"max\": 0.8058185577392578}}}\u001b[0m\n",
      "\u001b[34m#metrics {\"StartTime\": 1742279700.479848, \"EndTime\": 1742279700.4798536, \"Dimensions\": {\"Algorithm\": \"Linear Learner\", \"Host\": \"algo-1\", \"Operation\": \"training\", \"epoch\": 2, \"model\": 12}, \"Metrics\": {\"train_absolute_loss_objective\": {\"sum\": 0.6624393463134766, \"count\": 1, \"min\": 0.6624393463134766, \"max\": 0.6624393463134766}}}\u001b[0m\n",
      "\u001b[34m#metrics {\"StartTime\": 1742279700.4798787, \"EndTime\": 1742279700.4798841, \"Dimensions\": {\"Algorithm\": \"Linear Learner\", \"Host\": \"algo-1\", \"Operation\": \"training\", \"epoch\": 2, \"model\": 13}, \"Metrics\": {\"train_absolute_loss_objective\": {\"sum\": 0.6857379674911499, \"count\": 1, \"min\": 0.6857379674911499, \"max\": 0.6857379674911499}}}\u001b[0m\n",
      "\u001b[34m#metrics {\"StartTime\": 1742279700.4799023, \"EndTime\": 1742279700.4799073, \"Dimensions\": {\"Algorithm\": \"Linear Learner\", \"Host\": \"algo-1\", \"Operation\": \"training\", \"epoch\": 2, \"model\": 14}, \"Metrics\": {\"train_absolute_loss_objective\": {\"sum\": 0.6611195802688599, \"count\": 1, \"min\": 0.6611195802688599, \"max\": 0.6611195802688599}}}\u001b[0m\n",
      "\u001b[34m#metrics {\"StartTime\": 1742279700.4799252, \"EndTime\": 1742279700.4799306, \"Dimensions\": {\"Algorithm\": \"Linear Learner\", \"Host\": \"algo-1\", \"Operation\": \"training\", \"epoch\": 2, \"model\": 15}, \"Metrics\": {\"train_absolute_loss_objective\": {\"sum\": 0.691321849822998, \"count\": 1, \"min\": 0.691321849822998, \"max\": 0.691321849822998}}}\u001b[0m\n",
      "\u001b[34m#metrics {\"StartTime\": 1742279700.4799483, \"EndTime\": 1742279700.4799533, \"Dimensions\": {\"Algorithm\": \"Linear Learner\", \"Host\": \"algo-1\", \"Operation\": \"training\", \"epoch\": 2, \"model\": 16}, \"Metrics\": {\"train_absolute_loss_objective\": {\"sum\": 0.7930787801742554, \"count\": 1, \"min\": 0.7930787801742554, \"max\": 0.7930787801742554}}}\u001b[0m\n",
      "\u001b[34m#metrics {\"StartTime\": 1742279700.4799712, \"EndTime\": 1742279700.4799762, \"Dimensions\": {\"Algorithm\": \"Linear Learner\", \"Host\": \"algo-1\", \"Operation\": \"training\", \"epoch\": 2, \"model\": 17}, \"Metrics\": {\"train_absolute_loss_objective\": {\"sum\": 0.8339446783065796, \"count\": 1, \"min\": 0.8339446783065796, \"max\": 0.8339446783065796}}}\u001b[0m\n",
      "\u001b[34m#metrics {\"StartTime\": 1742279700.479994, \"EndTime\": 1742279700.4799995, \"Dimensions\": {\"Algorithm\": \"Linear Learner\", \"Host\": \"algo-1\", \"Operation\": \"training\", \"epoch\": 2, \"model\": 18}, \"Metrics\": {\"train_absolute_loss_objective\": {\"sum\": 0.8146587610244751, \"count\": 1, \"min\": 0.8146587610244751, \"max\": 0.8146587610244751}}}\u001b[0m\n",
      "\u001b[34m#metrics {\"StartTime\": 1742279700.4800224, \"EndTime\": 1742279700.480028, \"Dimensions\": {\"Algorithm\": \"Linear Learner\", \"Host\": \"algo-1\", \"Operation\": \"training\", \"epoch\": 2, \"model\": 19}, \"Metrics\": {\"train_absolute_loss_objective\": {\"sum\": 0.8125044107437134, \"count\": 1, \"min\": 0.8125044107437134, \"max\": 0.8125044107437134}}}\u001b[0m\n",
      "\u001b[34m#metrics {\"StartTime\": 1742279700.4800699, \"EndTime\": 1742279700.4800758, \"Dimensions\": {\"Algorithm\": \"Linear Learner\", \"Host\": \"algo-1\", \"Operation\": \"training\", \"epoch\": 2, \"model\": 20}, \"Metrics\": {\"train_absolute_loss_objective\": {\"sum\": 0.7021512389183044, \"count\": 1, \"min\": 0.7021512389183044, \"max\": 0.7021512389183044}}}\u001b[0m\n",
      "\u001b[34m#metrics {\"StartTime\": 1742279700.4801133, \"EndTime\": 1742279700.4801185, \"Dimensions\": {\"Algorithm\": \"Linear Learner\", \"Host\": \"algo-1\", \"Operation\": \"training\", \"epoch\": 2, \"model\": 21}, \"Metrics\": {\"train_absolute_loss_objective\": {\"sum\": 0.7156428098678589, \"count\": 1, \"min\": 0.7156428098678589, \"max\": 0.7156428098678589}}}\u001b[0m\n",
      "\u001b[34m#metrics {\"StartTime\": 1742279700.480156, \"EndTime\": 1742279700.4801614, \"Dimensions\": {\"Algorithm\": \"Linear Learner\", \"Host\": \"algo-1\", \"Operation\": \"training\", \"epoch\": 2, \"model\": 22}, \"Metrics\": {\"train_absolute_loss_objective\": {\"sum\": 0.6584107875823975, \"count\": 1, \"min\": 0.6584107875823975, \"max\": 0.6584107875823975}}}\u001b[0m\n",
      "\u001b[34m#metrics {\"StartTime\": 1742279700.4801986, \"EndTime\": 1742279700.4802043, \"Dimensions\": {\"Algorithm\": \"Linear Learner\", \"Host\": \"algo-1\", \"Operation\": \"training\", \"epoch\": 2, \"model\": 23}, \"Metrics\": {\"train_absolute_loss_objective\": {\"sum\": 0.7388449311256409, \"count\": 1, \"min\": 0.7388449311256409, \"max\": 0.7388449311256409}}}\u001b[0m\n",
      "\u001b[34m#metrics {\"StartTime\": 1742279700.4802284, \"EndTime\": 1742279700.4802337, \"Dimensions\": {\"Algorithm\": \"Linear Learner\", \"Host\": \"algo-1\", \"Operation\": \"training\", \"epoch\": 2, \"model\": 24}, \"Metrics\": {\"train_absolute_loss_objective\": {\"sum\": 0.7956178784370422, \"count\": 1, \"min\": 0.7956178784370422, \"max\": 0.7956178784370422}}}\u001b[0m\n",
      "\u001b[34m#metrics {\"StartTime\": 1742279700.4802523, \"EndTime\": 1742279700.4802573, \"Dimensions\": {\"Algorithm\": \"Linear Learner\", \"Host\": \"algo-1\", \"Operation\": \"training\", \"epoch\": 2, \"model\": 25}, \"Metrics\": {\"train_absolute_loss_objective\": {\"sum\": 0.8485319018363953, \"count\": 1, \"min\": 0.8485319018363953, \"max\": 0.8485319018363953}}}\u001b[0m\n",
      "\u001b[34m#metrics {\"StartTime\": 1742279700.4802752, \"EndTime\": 1742279700.4802804, \"Dimensions\": {\"Algorithm\": \"Linear Learner\", \"Host\": \"algo-1\", \"Operation\": \"training\", \"epoch\": 2, \"model\": 26}, \"Metrics\": {\"train_absolute_loss_objective\": {\"sum\": 0.8378698825836182, \"count\": 1, \"min\": 0.8378698825836182, \"max\": 0.8378698825836182}}}\u001b[0m\n",
      "\u001b[34m#metrics {\"StartTime\": 1742279700.4802988, \"EndTime\": 1742279700.4803038, \"Dimensions\": {\"Algorithm\": \"Linear Learner\", \"Host\": \"algo-1\", \"Operation\": \"training\", \"epoch\": 2, \"model\": 27}, \"Metrics\": {\"train_absolute_loss_objective\": {\"sum\": 0.8289662003517151, \"count\": 1, \"min\": 0.8289662003517151, \"max\": 0.8289662003517151}}}\u001b[0m\n",
      "\u001b[34m#metrics {\"StartTime\": 1742279700.480341, \"EndTime\": 1742279700.480347, \"Dimensions\": {\"Algorithm\": \"Linear Learner\", \"Host\": \"algo-1\", \"Operation\": \"training\", \"epoch\": 2, \"model\": 28}, \"Metrics\": {\"train_absolute_loss_objective\": {\"sum\": 0.849725067615509, \"count\": 1, \"min\": 0.849725067615509, \"max\": 0.849725067615509}}}\u001b[0m\n",
      "\u001b[34m#metrics {\"StartTime\": 1742279700.4803653, \"EndTime\": 1742279700.4803708, \"Dimensions\": {\"Algorithm\": \"Linear Learner\", \"Host\": \"algo-1\", \"Operation\": \"training\", \"epoch\": 2, \"model\": 29}, \"Metrics\": {\"train_absolute_loss_objective\": {\"sum\": 0.8511853218078613, \"count\": 1, \"min\": 0.8511853218078613, \"max\": 0.8511853218078613}}}\u001b[0m\n",
      "\u001b[34m#metrics {\"StartTime\": 1742279700.4803886, \"EndTime\": 1742279700.480394, \"Dimensions\": {\"Algorithm\": \"Linear Learner\", \"Host\": \"algo-1\", \"Operation\": \"training\", \"epoch\": 2, \"model\": 30}, \"Metrics\": {\"train_absolute_loss_objective\": {\"sum\": 0.8125512599945068, \"count\": 1, \"min\": 0.8125512599945068, \"max\": 0.8125512599945068}}}\u001b[0m\n",
      "\u001b[34m#metrics {\"StartTime\": 1742279700.4804115, \"EndTime\": 1742279700.4804168, \"Dimensions\": {\"Algorithm\": \"Linear Learner\", \"Host\": \"algo-1\", \"Operation\": \"training\", \"epoch\": 2, \"model\": 31}, \"Metrics\": {\"train_absolute_loss_objective\": {\"sum\": 0.8458040952682495, \"count\": 1, \"min\": 0.8458040952682495, \"max\": 0.8458040952682495}}}\u001b[0m\n",
      "\u001b[34m[03/18/2025 06:35:00 INFO 140333394597696] #quality_metric: host=algo-1, epoch=2, train absolute_loss_objective <loss>=0.8218694925308228\u001b[0m\n",
      "\u001b[34m[03/18/2025 06:35:00 INFO 140333394597696] #early_stopping_criteria_metric: host=algo-1, epoch=2, criteria=absolute_loss_objective, value=0.6545904278755188\u001b[0m\n",
      "\u001b[34m[03/18/2025 06:35:00 INFO 140333394597696] Epoch 2: Loss improved. Updating best model\u001b[0m\n",
      "\u001b[34m[03/18/2025 06:35:00 INFO 140333394597696] Saving model for epoch: 2\u001b[0m\n",
      "\u001b[34m[03/18/2025 06:35:00 INFO 140333394597696] Saved checkpoint to \"/tmp/tmpa25r0m58/mx-mod-0000.params\"\u001b[0m\n",
      "\u001b[34m[03/18/2025 06:35:00 INFO 140333394597696] #progress_metric: host=algo-1, completed 50.0 % of epochs\u001b[0m\n",
      "\u001b[34m#metrics {\"StartTime\": 1742279700.4661708, \"EndTime\": 1742279700.487007, \"Dimensions\": {\"Algorithm\": \"Linear Learner\", \"Host\": \"algo-1\", \"Operation\": \"training\", \"epoch\": 2, \"Meta\": \"training_data_iter\"}, \"Metrics\": {\"Total Records Seen\": {\"sum\": 24.0, \"count\": 1, \"min\": 24, \"max\": 24}, \"Total Batches Seen\": {\"sum\": 9.0, \"count\": 1, \"min\": 9, \"max\": 9}, \"Max Records Seen Between Resets\": {\"sum\": 5.0, \"count\": 1, \"min\": 5, \"max\": 5}, \"Max Batches Seen Between Resets\": {\"sum\": 2.0, \"count\": 1, \"min\": 2, \"max\": 2}, \"Reset Count\": {\"sum\": 5.0, \"count\": 1, \"min\": 5, \"max\": 5}, \"Number of Records Since Last Reset\": {\"sum\": 5.0, \"count\": 1, \"min\": 5, \"max\": 5}, \"Number of Batches Since Last Reset\": {\"sum\": 2.0, \"count\": 1, \"min\": 2, \"max\": 2}}}\u001b[0m\n",
      "\u001b[34m[03/18/2025 06:35:00 INFO 140333394597696] #throughput_metric: host=algo-1, train throughput=238.5974173730019 records/second\u001b[0m\n",
      "\u001b[34m[2025-03-18 06:35:00.499] [tensorio] [info] epoch_stats={\"data_pipeline\": \"/opt/ml/input/data/train\", \"epoch\": 10, \"duration\": 12, \"num_examples\": 2, \"num_bytes\": 240}\u001b[0m\n",
      "\u001b[34m#metrics {\"StartTime\": 1742279700.4996772, \"EndTime\": 1742279700.4997225, \"Dimensions\": {\"Algorithm\": \"Linear Learner\", \"Host\": \"algo-1\", \"Operation\": \"training\", \"epoch\": 3, \"model\": 0}, \"Metrics\": {\"train_absolute_loss_objective\": {\"sum\": 0.8184239864349365, \"count\": 1, \"min\": 0.8184239864349365, \"max\": 0.8184239864349365}}}\u001b[0m\n",
      "\u001b[34m#metrics {\"StartTime\": 1742279700.4998133, \"EndTime\": 1742279700.4998236, \"Dimensions\": {\"Algorithm\": \"Linear Learner\", \"Host\": \"algo-1\", \"Operation\": \"training\", \"epoch\": 3, \"model\": 1}, \"Metrics\": {\"train_absolute_loss_objective\": {\"sum\": 0.8342872858047485, \"count\": 1, \"min\": 0.8342872858047485, \"max\": 0.8342872858047485}}}\u001b[0m\n",
      "\u001b[34m#metrics {\"StartTime\": 1742279700.4998758, \"EndTime\": 1742279700.4998827, \"Dimensions\": {\"Algorithm\": \"Linear Learner\", \"Host\": \"algo-1\", \"Operation\": \"training\", \"epoch\": 3, \"model\": 2}, \"Metrics\": {\"train_absolute_loss_objective\": {\"sum\": 0.8203455805778503, \"count\": 1, \"min\": 0.8203455805778503, \"max\": 0.8203455805778503}}}\u001b[0m\n",
      "\u001b[34m#metrics {\"StartTime\": 1742279700.4999237, \"EndTime\": 1742279700.4999301, \"Dimensions\": {\"Algorithm\": \"Linear Learner\", \"Host\": \"algo-1\", \"Operation\": \"training\", \"epoch\": 3, \"model\": 3}, \"Metrics\": {\"train_absolute_loss_objective\": {\"sum\": 0.8334766626358032, \"count\": 1, \"min\": 0.8334766626358032, \"max\": 0.8334766626358032}}}\u001b[0m\n",
      "\u001b[34m#metrics {\"StartTime\": 1742279700.499978, \"EndTime\": 1742279700.499984, \"Dimensions\": {\"Algorithm\": \"Linear Learner\", \"Host\": \"algo-1\", \"Operation\": \"training\", \"epoch\": 3, \"model\": 4}, \"Metrics\": {\"train_absolute_loss_objective\": {\"sum\": 0.585680365562439, \"count\": 1, \"min\": 0.585680365562439, \"max\": 0.585680365562439}}}\u001b[0m\n",
      "\u001b[34m#metrics {\"StartTime\": 1742279700.5000267, \"EndTime\": 1742279700.5000327, \"Dimensions\": {\"Algorithm\": \"Linear Learner\", \"Host\": \"algo-1\", \"Operation\": \"training\", \"epoch\": 3, \"model\": 5}, \"Metrics\": {\"train_absolute_loss_objective\": {\"sum\": 0.5943163633346558, \"count\": 1, \"min\": 0.5943163633346558, \"max\": 0.5943163633346558}}}\u001b[0m\n",
      "\u001b[34m#metrics {\"StartTime\": 1742279700.5000706, \"EndTime\": 1742279700.5000768, \"Dimensions\": {\"Algorithm\": \"Linear Learner\", \"Host\": \"algo-1\", \"Operation\": \"training\", \"epoch\": 3, \"model\": 6}, \"Metrics\": {\"train_absolute_loss_objective\": {\"sum\": 0.6681228876113892, \"count\": 1, \"min\": 0.6681228876113892, \"max\": 0.6681228876113892}}}\u001b[0m\n",
      "\u001b[34m#metrics {\"StartTime\": 1742279700.5001016, \"EndTime\": 1742279700.5001075, \"Dimensions\": {\"Algorithm\": \"Linear Learner\", \"Host\": \"algo-1\", \"Operation\": \"training\", \"epoch\": 3, \"model\": 7}, \"Metrics\": {\"train_absolute_loss_objective\": {\"sum\": 0.6424261331558228, \"count\": 1, \"min\": 0.6424261331558228, \"max\": 0.6424261331558228}}}\u001b[0m\n",
      "\u001b[34m#metrics {\"StartTime\": 1742279700.5001523, \"EndTime\": 1742279700.5001583, \"Dimensions\": {\"Algorithm\": \"Linear Learner\", \"Host\": \"algo-1\", \"Operation\": \"training\", \"epoch\": 3, \"model\": 8}, \"Metrics\": {\"train_absolute_loss_objective\": {\"sum\": 0.862964391708374, \"count\": 1, \"min\": 0.862964391708374, \"max\": 0.862964391708374}}}\u001b[0m\n",
      "\u001b[34m#metrics {\"StartTime\": 1742279700.5001957, \"EndTime\": 1742279700.5002017, \"Dimensions\": {\"Algorithm\": \"Linear Learner\", \"Host\": \"algo-1\", \"Operation\": \"training\", \"epoch\": 3, \"model\": 9}, \"Metrics\": {\"train_absolute_loss_objective\": {\"sum\": 0.8088384866714478, \"count\": 1, \"min\": 0.8088384866714478, \"max\": 0.8088384866714478}}}\u001b[0m\n",
      "\u001b[34m#metrics {\"StartTime\": 1742279700.5002403, \"EndTime\": 1742279700.500246, \"Dimensions\": {\"Algorithm\": \"Linear Learner\", \"Host\": \"algo-1\", \"Operation\": \"training\", \"epoch\": 3, \"model\": 10}, \"Metrics\": {\"train_absolute_loss_objective\": {\"sum\": 0.8141761422157288, \"count\": 1, \"min\": 0.8141761422157288, \"max\": 0.8141761422157288}}}\u001b[0m\n",
      "\u001b[34m#metrics {\"StartTime\": 1742279700.5002894, \"EndTime\": 1742279700.5002954, \"Dimensions\": {\"Algorithm\": \"Linear Learner\", \"Host\": \"algo-1\", \"Operation\": \"training\", \"epoch\": 3, \"model\": 11}, \"Metrics\": {\"train_absolute_loss_objective\": {\"sum\": 0.8023731112480164, \"count\": 1, \"min\": 0.8023731112480164, \"max\": 0.8023731112480164}}}\u001b[0m\n",
      "\u001b[34m#metrics {\"StartTime\": 1742279700.5003376, \"EndTime\": 1742279700.5003436, \"Dimensions\": {\"Algorithm\": \"Linear Learner\", \"Host\": \"algo-1\", \"Operation\": \"training\", \"epoch\": 3, \"model\": 12}, \"Metrics\": {\"train_absolute_loss_objective\": {\"sum\": 0.5935360789299011, \"count\": 1, \"min\": 0.5935360789299011, \"max\": 0.5935360789299011}}}\u001b[0m\n",
      "\u001b[34m#metrics {\"StartTime\": 1742279700.5003834, \"EndTime\": 1742279700.5003893, \"Dimensions\": {\"Algorithm\": \"Linear Learner\", \"Host\": \"algo-1\", \"Operation\": \"training\", \"epoch\": 3, \"model\": 13}, \"Metrics\": {\"train_absolute_loss_objective\": {\"sum\": 0.6168347001075745, \"count\": 1, \"min\": 0.6168347001075745, \"max\": 0.6168347001075745}}}\u001b[0m\n",
      "\u001b[34m#metrics {\"StartTime\": 1742279700.5004296, \"EndTime\": 1742279700.5004354, \"Dimensions\": {\"Algorithm\": \"Linear Learner\", \"Host\": \"algo-1\", \"Operation\": \"training\", \"epoch\": 3, \"model\": 14}, \"Metrics\": {\"train_absolute_loss_objective\": {\"sum\": 0.5922163724899292, \"count\": 1, \"min\": 0.5922163724899292, \"max\": 0.5922163724899292}}}\u001b[0m\n",
      "\u001b[34m#metrics {\"StartTime\": 1742279700.5004728, \"EndTime\": 1742279700.5004785, \"Dimensions\": {\"Algorithm\": \"Linear Learner\", \"Host\": \"algo-1\", \"Operation\": \"training\", \"epoch\": 3, \"model\": 15}, \"Metrics\": {\"train_absolute_loss_objective\": {\"sum\": 0.6224186420440674, \"count\": 1, \"min\": 0.6224186420440674, \"max\": 0.6224186420440674}}}\u001b[0m\n",
      "\u001b[34m#metrics {\"StartTime\": 1742279700.50052, \"EndTime\": 1742279700.5005255, \"Dimensions\": {\"Algorithm\": \"Linear Learner\", \"Host\": \"algo-1\", \"Operation\": \"training\", \"epoch\": 3, \"model\": 16}, \"Metrics\": {\"train_absolute_loss_objective\": {\"sum\": 0.789635181427002, \"count\": 1, \"min\": 0.789635181427002, \"max\": 0.789635181427002}}}\u001b[0m\n",
      "\u001b[34m#metrics {\"StartTime\": 1742279700.5005653, \"EndTime\": 1742279700.5005713, \"Dimensions\": {\"Algorithm\": \"Linear Learner\", \"Host\": \"algo-1\", \"Operation\": \"training\", \"epoch\": 3, \"model\": 17}, \"Metrics\": {\"train_absolute_loss_objective\": {\"sum\": 0.8305009603500366, \"count\": 1, \"min\": 0.8305009603500366, \"max\": 0.8305009603500366}}}\u001b[0m\n",
      "\u001b[34m#metrics {\"StartTime\": 1742279700.500611, \"EndTime\": 1742279700.500617, \"Dimensions\": {\"Algorithm\": \"Linear Learner\", \"Host\": \"algo-1\", \"Operation\": \"training\", \"epoch\": 3, \"model\": 18}, \"Metrics\": {\"train_absolute_loss_objective\": {\"sum\": 0.8112150430679321, \"count\": 1, \"min\": 0.8112150430679321, \"max\": 0.8112150430679321}}}\u001b[0m\n",
      "\u001b[34m#metrics {\"StartTime\": 1742279700.500656, \"EndTime\": 1742279700.5006618, \"Dimensions\": {\"Algorithm\": \"Linear Learner\", \"Host\": \"algo-1\", \"Operation\": \"training\", \"epoch\": 3, \"model\": 19}, \"Metrics\": {\"train_absolute_loss_objective\": {\"sum\": 0.80906081199646, \"count\": 1, \"min\": 0.80906081199646, \"max\": 0.80906081199646}}}\u001b[0m\n",
      "\u001b[34m#metrics {\"StartTime\": 1742279700.5007017, \"EndTime\": 1742279700.5007076, \"Dimensions\": {\"Algorithm\": \"Linear Learner\", \"Host\": \"algo-1\", \"Operation\": \"training\", \"epoch\": 3, \"model\": 20}, \"Metrics\": {\"train_absolute_loss_objective\": {\"sum\": 0.6346603035926819, \"count\": 1, \"min\": 0.6346603035926819, \"max\": 0.6346603035926819}}}\u001b[0m\n",
      "\u001b[34m#metrics {\"StartTime\": 1742279700.5007467, \"EndTime\": 1742279700.5007527, \"Dimensions\": {\"Algorithm\": \"Linear Learner\", \"Host\": \"algo-1\", \"Operation\": \"training\", \"epoch\": 3, \"model\": 21}, \"Metrics\": {\"train_absolute_loss_objective\": {\"sum\": 0.6480886936187744, \"count\": 1, \"min\": 0.6480886936187744, \"max\": 0.6480886936187744}}}\u001b[0m\n",
      "\u001b[34m#metrics {\"StartTime\": 1742279700.5007956, \"EndTime\": 1742279700.5008013, \"Dimensions\": {\"Algorithm\": \"Linear Learner\", \"Host\": \"algo-1\", \"Operation\": \"training\", \"epoch\": 3, \"model\": 22}, \"Metrics\": {\"train_absolute_loss_objective\": {\"sum\": 0.5911662578582764, \"count\": 1, \"min\": 0.5911662578582764, \"max\": 0.5911662578582764}}}\u001b[0m\n",
      "\u001b[34m#metrics {\"StartTime\": 1742279700.5008411, \"EndTime\": 1742279700.5013163, \"Dimensions\": {\"Algorithm\": \"Linear Learner\", \"Host\": \"algo-1\", \"Operation\": \"training\", \"epoch\": 3, \"model\": 23}, \"Metrics\": {\"train_absolute_loss_objective\": {\"sum\": 0.6711933612823486, \"count\": 1, \"min\": 0.6711933612823486, \"max\": 0.6711933612823486}}}\u001b[0m\n",
      "\u001b[34m#metrics {\"StartTime\": 1742279700.5013683, \"EndTime\": 1742279700.5013762, \"Dimensions\": {\"Algorithm\": \"Linear Learner\", \"Host\": \"algo-1\", \"Operation\": \"training\", \"epoch\": 3, \"model\": 24}, \"Metrics\": {\"train_absolute_loss_objective\": {\"sum\": 0.7990308403968811, \"count\": 1, \"min\": 0.7990308403968811, \"max\": 0.7990308403968811}}}\u001b[0m\n",
      "\u001b[34m#metrics {\"StartTime\": 1742279700.501415, \"EndTime\": 1742279700.501421, \"Dimensions\": {\"Algorithm\": \"Linear Learner\", \"Host\": \"algo-1\", \"Operation\": \"training\", \"epoch\": 3, \"model\": 25}, \"Metrics\": {\"train_absolute_loss_objective\": {\"sum\": 0.8451463580131531, \"count\": 1, \"min\": 0.8451463580131531, \"max\": 0.8451463580131531}}}\u001b[0m\n",
      "\u001b[34m#metrics {\"StartTime\": 1742279700.501458, \"EndTime\": 1742279700.5014644, \"Dimensions\": {\"Algorithm\": \"Linear Learner\", \"Host\": \"algo-1\", \"Operation\": \"training\", \"epoch\": 3, \"model\": 26}, \"Metrics\": {\"train_absolute_loss_objective\": {\"sum\": 0.8345702290534973, \"count\": 1, \"min\": 0.8345702290534973, \"max\": 0.8345702290534973}}}\u001b[0m\n",
      "\u001b[34m#metrics {\"StartTime\": 1742279700.501501, \"EndTime\": 1742279700.501507, \"Dimensions\": {\"Algorithm\": \"Linear Learner\", \"Host\": \"algo-1\", \"Operation\": \"training\", \"epoch\": 3, \"model\": 27}, \"Metrics\": {\"train_absolute_loss_objective\": {\"sum\": 0.8264141082763672, \"count\": 1, \"min\": 0.8264141082763672, \"max\": 0.8264141082763672}}}\u001b[0m\n",
      "\u001b[34m#metrics {\"StartTime\": 1742279700.501547, \"EndTime\": 1742279700.5015528, \"Dimensions\": {\"Algorithm\": \"Linear Learner\", \"Host\": \"algo-1\", \"Operation\": \"training\", \"epoch\": 3, \"model\": 28}, \"Metrics\": {\"train_absolute_loss_objective\": {\"sum\": 0.8154754042625427, \"count\": 1, \"min\": 0.8154754042625427, \"max\": 0.8154754042625427}}}\u001b[0m\n",
      "\u001b[34m#metrics {\"StartTime\": 1742279700.5015924, \"EndTime\": 1742279700.5015981, \"Dimensions\": {\"Algorithm\": \"Linear Learner\", \"Host\": \"algo-1\", \"Operation\": \"training\", \"epoch\": 3, \"model\": 29}, \"Metrics\": {\"train_absolute_loss_objective\": {\"sum\": 0.8183721303939819, \"count\": 1, \"min\": 0.8183721303939819, \"max\": 0.8183721303939819}}}\u001b[0m\n",
      "\u001b[34m#metrics {\"StartTime\": 1742279700.5016346, \"EndTime\": 1742279700.5016406, \"Dimensions\": {\"Algorithm\": \"Linear Learner\", \"Host\": \"algo-1\", \"Operation\": \"training\", \"epoch\": 3, \"model\": 30}, \"Metrics\": {\"train_absolute_loss_objective\": {\"sum\": 0.8580396175384521, \"count\": 1, \"min\": 0.8580396175384521, \"max\": 0.8580396175384521}}}\u001b[0m\n",
      "\u001b[34m#metrics {\"StartTime\": 1742279700.5016778, \"EndTime\": 1742279700.5016835, \"Dimensions\": {\"Algorithm\": \"Linear Learner\", \"Host\": \"algo-1\", \"Operation\": \"training\", \"epoch\": 3, \"model\": 31}, \"Metrics\": {\"train_absolute_loss_objective\": {\"sum\": 0.7974777817726135, \"count\": 1, \"min\": 0.7974777817726135, \"max\": 0.7974777817726135}}}\u001b[0m\n",
      "\u001b[34m[03/18/2025 06:35:00 INFO 140333394597696] #quality_metric: host=algo-1, epoch=3, train absolute_loss_objective <loss>=0.8184239864349365\u001b[0m\n",
      "\u001b[34m[03/18/2025 06:35:00 INFO 140333394597696] #early_stopping_criteria_metric: host=algo-1, epoch=3, criteria=absolute_loss_objective, value=0.585680365562439\u001b[0m\n",
      "\u001b[34m[03/18/2025 06:35:00 INFO 140333394597696] Epoch 3: Loss improved. Updating best model\u001b[0m\n",
      "\u001b[34m[03/18/2025 06:35:00 INFO 140333394597696] Saving model for epoch: 3\u001b[0m\n",
      "\u001b[34m[03/18/2025 06:35:00 INFO 140333394597696] Saved checkpoint to \"/tmp/tmp27269h8e/mx-mod-0000.params\"\u001b[0m\n",
      "\u001b[34m[03/18/2025 06:35:00 INFO 140333394597696] #progress_metric: host=algo-1, completed 66.66666666666667 % of epochs\u001b[0m\n",
      "\u001b[34m#metrics {\"StartTime\": 1742279700.4872503, \"EndTime\": 1742279700.508481, \"Dimensions\": {\"Algorithm\": \"Linear Learner\", \"Host\": \"algo-1\", \"Operation\": \"training\", \"epoch\": 3, \"Meta\": \"training_data_iter\"}, \"Metrics\": {\"Total Records Seen\": {\"sum\": 29.0, \"count\": 1, \"min\": 29, \"max\": 29}, \"Total Batches Seen\": {\"sum\": 11.0, \"count\": 1, \"min\": 11, \"max\": 11}, \"Max Records Seen Between Resets\": {\"sum\": 5.0, \"count\": 1, \"min\": 5, \"max\": 5}, \"Max Batches Seen Between Resets\": {\"sum\": 2.0, \"count\": 1, \"min\": 2, \"max\": 2}, \"Reset Count\": {\"sum\": 6.0, \"count\": 1, \"min\": 6, \"max\": 6}, \"Number of Records Since Last Reset\": {\"sum\": 5.0, \"count\": 1, \"min\": 5, \"max\": 5}, \"Number of Batches Since Last Reset\": {\"sum\": 2.0, \"count\": 1, \"min\": 2, \"max\": 2}}}\u001b[0m\n",
      "\u001b[34m[03/18/2025 06:35:00 INFO 140333394597696] #throughput_metric: host=algo-1, train throughput=234.44439475920046 records/second\u001b[0m\n",
      "\u001b[34m[2025-03-18 06:35:00.523] [tensorio] [info] epoch_stats={\"data_pipeline\": \"/opt/ml/input/data/train\", \"epoch\": 12, \"duration\": 15, \"num_examples\": 2, \"num_bytes\": 240}\u001b[0m\n",
      "\u001b[34m#metrics {\"StartTime\": 1742279700.5239687, \"EndTime\": 1742279700.52402, \"Dimensions\": {\"Algorithm\": \"Linear Learner\", \"Host\": \"algo-1\", \"Operation\": \"training\", \"epoch\": 4, \"model\": 0}, \"Metrics\": {\"train_absolute_loss_objective\": {\"sum\": 0.8149784207344055, \"count\": 1, \"min\": 0.8149784207344055, \"max\": 0.8149784207344055}}}\u001b[0m\n",
      "\u001b[34m#metrics {\"StartTime\": 1742279700.5241168, \"EndTime\": 1742279700.524126, \"Dimensions\": {\"Algorithm\": \"Linear Learner\", \"Host\": \"algo-1\", \"Operation\": \"training\", \"epoch\": 4, \"model\": 1}, \"Metrics\": {\"train_absolute_loss_objective\": {\"sum\": 0.8308417797088623, \"count\": 1, \"min\": 0.8308417797088623, \"max\": 0.8308417797088623}}}\u001b[0m\n",
      "\u001b[34m#metrics {\"StartTime\": 1742279700.5241566, \"EndTime\": 1742279700.5241632, \"Dimensions\": {\"Algorithm\": \"Linear Learner\", \"Host\": \"algo-1\", \"Operation\": \"training\", \"epoch\": 4, \"model\": 2}, \"Metrics\": {\"train_absolute_loss_objective\": {\"sum\": 0.8169000744819641, \"count\": 1, \"min\": 0.8169000744819641, \"max\": 0.8169000744819641}}}\u001b[0m\n",
      "\u001b[34m#metrics {\"StartTime\": 1742279700.5242093, \"EndTime\": 1742279700.5242152, \"Dimensions\": {\"Algorithm\": \"Linear Learner\", \"Host\": \"algo-1\", \"Operation\": \"training\", \"epoch\": 4, \"model\": 3}, \"Metrics\": {\"train_absolute_loss_objective\": {\"sum\": 0.8300310969352722, \"count\": 1, \"min\": 0.8300310969352722, \"max\": 0.8300310969352722}}}\u001b[0m\n",
      "\u001b[34m#metrics {\"StartTime\": 1742279700.5242586, \"EndTime\": 1742279700.5242648, \"Dimensions\": {\"Algorithm\": \"Linear Learner\", \"Host\": \"algo-1\", \"Operation\": \"training\", \"epoch\": 4, \"model\": 4}, \"Metrics\": {\"train_absolute_loss_objective\": {\"sum\": 0.5167702436447144, \"count\": 1, \"min\": 0.5167702436447144, \"max\": 0.5167702436447144}}}\u001b[0m\n",
      "\u001b[34m#metrics {\"StartTime\": 1742279700.5243099, \"EndTime\": 1742279700.5243175, \"Dimensions\": {\"Algorithm\": \"Linear Learner\", \"Host\": \"algo-1\", \"Operation\": \"training\", \"epoch\": 4, \"model\": 5}, \"Metrics\": {\"train_absolute_loss_objective\": {\"sum\": 0.5254063010215759, \"count\": 1, \"min\": 0.5254063010215759, \"max\": 0.5254063010215759}}}\u001b[0m\n",
      "\u001b[34m#metrics {\"StartTime\": 1742279700.5243568, \"EndTime\": 1742279700.5243626, \"Dimensions\": {\"Algorithm\": \"Linear Learner\", \"Host\": \"algo-1\", \"Operation\": \"training\", \"epoch\": 4, \"model\": 6}, \"Metrics\": {\"train_absolute_loss_objective\": {\"sum\": 0.5992127656936646, \"count\": 1, \"min\": 0.5992127656936646, \"max\": 0.5992127656936646}}}\u001b[0m\n",
      "\u001b[34m#metrics {\"StartTime\": 1742279700.5243998, \"EndTime\": 1742279700.5244057, \"Dimensions\": {\"Algorithm\": \"Linear Learner\", \"Host\": \"algo-1\", \"Operation\": \"training\", \"epoch\": 4, \"model\": 7}, \"Metrics\": {\"train_absolute_loss_objective\": {\"sum\": 0.5735160112380981, \"count\": 1, \"min\": 0.5735160112380981, \"max\": 0.5735160112380981}}}\u001b[0m\n",
      "\u001b[34m#metrics {\"StartTime\": 1742279700.52443, \"EndTime\": 1742279700.5244355, \"Dimensions\": {\"Algorithm\": \"Linear Learner\", \"Host\": \"algo-1\", \"Operation\": \"training\", \"epoch\": 4, \"model\": 8}, \"Metrics\": {\"train_absolute_loss_objective\": {\"sum\": 0.8595188856124878, \"count\": 1, \"min\": 0.8595188856124878, \"max\": 0.8595188856124878}}}\u001b[0m\n",
      "\u001b[34m#metrics {\"StartTime\": 1742279700.524454, \"EndTime\": 1742279700.5244596, \"Dimensions\": {\"Algorithm\": \"Linear Learner\", \"Host\": \"algo-1\", \"Operation\": \"training\", \"epoch\": 4, \"model\": 9}, \"Metrics\": {\"train_absolute_loss_objective\": {\"sum\": 0.8053930401802063, \"count\": 1, \"min\": 0.8053930401802063, \"max\": 0.8053930401802063}}}\u001b[0m\n",
      "\u001b[34m#metrics {\"StartTime\": 1742279700.5245013, \"EndTime\": 1742279700.524507, \"Dimensions\": {\"Algorithm\": \"Linear Learner\", \"Host\": \"algo-1\", \"Operation\": \"training\", \"epoch\": 4, \"model\": 10}, \"Metrics\": {\"train_absolute_loss_objective\": {\"sum\": 0.8107306957244873, \"count\": 1, \"min\": 0.8107306957244873, \"max\": 0.8107306957244873}}}\u001b[0m\n",
      "\u001b[34m#metrics {\"StartTime\": 1742279700.5245438, \"EndTime\": 1742279700.5245497, \"Dimensions\": {\"Algorithm\": \"Linear Learner\", \"Host\": \"algo-1\", \"Operation\": \"training\", \"epoch\": 4, \"model\": 11}, \"Metrics\": {\"train_absolute_loss_objective\": {\"sum\": 0.7989276051521301, \"count\": 1, \"min\": 0.7989276051521301, \"max\": 0.7989276051521301}}}\u001b[0m\n",
      "\u001b[34m#metrics {\"StartTime\": 1742279700.52459, \"EndTime\": 1742279700.524596, \"Dimensions\": {\"Algorithm\": \"Linear Learner\", \"Host\": \"algo-1\", \"Operation\": \"training\", \"epoch\": 4, \"model\": 12}, \"Metrics\": {\"train_absolute_loss_objective\": {\"sum\": 0.5246390104293823, \"count\": 1, \"min\": 0.5246390104293823, \"max\": 0.5246390104293823}}}\u001b[0m\n",
      "\u001b[34m#metrics {\"StartTime\": 1742279700.524637, \"EndTime\": 1742279700.5246427, \"Dimensions\": {\"Algorithm\": \"Linear Learner\", \"Host\": \"algo-1\", \"Operation\": \"training\", \"epoch\": 4, \"model\": 13}, \"Metrics\": {\"train_absolute_loss_objective\": {\"sum\": 0.5479376316070557, \"count\": 1, \"min\": 0.5479376316070557, \"max\": 0.5479376316070557}}}\u001b[0m\n",
      "\u001b[34m#metrics {\"StartTime\": 1742279700.5246668, \"EndTime\": 1742279700.5246723, \"Dimensions\": {\"Algorithm\": \"Linear Learner\", \"Host\": \"algo-1\", \"Operation\": \"training\", \"epoch\": 4, \"model\": 14}, \"Metrics\": {\"train_absolute_loss_objective\": {\"sum\": 0.5233192443847656, \"count\": 1, \"min\": 0.5233192443847656, \"max\": 0.5233192443847656}}}\u001b[0m\n",
      "\u001b[34m#metrics {\"StartTime\": 1742279700.5246909, \"EndTime\": 1742279700.524696, \"Dimensions\": {\"Algorithm\": \"Linear Learner\", \"Host\": \"algo-1\", \"Operation\": \"training\", \"epoch\": 4, \"model\": 15}, \"Metrics\": {\"train_absolute_loss_objective\": {\"sum\": 0.5535215139389038, \"count\": 1, \"min\": 0.5535215139389038, \"max\": 0.5535215139389038}}}\u001b[0m\n",
      "\u001b[34m#metrics {\"StartTime\": 1742279700.5247188, \"EndTime\": 1742279700.5247245, \"Dimensions\": {\"Algorithm\": \"Linear Learner\", \"Host\": \"algo-1\", \"Operation\": \"training\", \"epoch\": 4, \"model\": 16}, \"Metrics\": {\"train_absolute_loss_objective\": {\"sum\": 0.7861933708190918, \"count\": 1, \"min\": 0.7861933708190918, \"max\": 0.7861933708190918}}}\u001b[0m\n",
      "\u001b[34m#metrics {\"StartTime\": 1742279700.5247474, \"EndTime\": 1742279700.5247529, \"Dimensions\": {\"Algorithm\": \"Linear Learner\", \"Host\": \"algo-1\", \"Operation\": \"training\", \"epoch\": 4, \"model\": 17}, \"Metrics\": {\"train_absolute_loss_objective\": {\"sum\": 0.8270587921142578, \"count\": 1, \"min\": 0.8270587921142578, \"max\": 0.8270587921142578}}}\u001b[0m\n",
      "\u001b[34m#metrics {\"StartTime\": 1742279700.524794, \"EndTime\": 1742279700.5247998, \"Dimensions\": {\"Algorithm\": \"Linear Learner\", \"Host\": \"algo-1\", \"Operation\": \"training\", \"epoch\": 4, \"model\": 18}, \"Metrics\": {\"train_absolute_loss_objective\": {\"sum\": 0.8077730536460876, \"count\": 1, \"min\": 0.8077730536460876, \"max\": 0.8077730536460876}}}\u001b[0m\n",
      "\u001b[34m#metrics {\"StartTime\": 1742279700.5248446, \"EndTime\": 1742279700.5248518, \"Dimensions\": {\"Algorithm\": \"Linear Learner\", \"Host\": \"algo-1\", \"Operation\": \"training\", \"epoch\": 4, \"model\": 19}, \"Metrics\": {\"train_absolute_loss_objective\": {\"sum\": 0.8056188225746155, \"count\": 1, \"min\": 0.8056188225746155, \"max\": 0.8056188225746155}}}\u001b[0m\n",
      "\u001b[34m#metrics {\"StartTime\": 1742279700.5248902, \"EndTime\": 1742279700.5248957, \"Dimensions\": {\"Algorithm\": \"Linear Learner\", \"Host\": \"algo-1\", \"Operation\": \"training\", \"epoch\": 4, \"model\": 20}, \"Metrics\": {\"train_absolute_loss_objective\": {\"sum\": 0.5687006115913391, \"count\": 1, \"min\": 0.5687006115913391, \"max\": 0.5687006115913391}}}\u001b[0m\n",
      "\u001b[34m#metrics {\"StartTime\": 1742279700.524933, \"EndTime\": 1742279700.5249388, \"Dimensions\": {\"Algorithm\": \"Linear Learner\", \"Host\": \"algo-1\", \"Operation\": \"training\", \"epoch\": 4, \"model\": 21}, \"Metrics\": {\"train_absolute_loss_objective\": {\"sum\": 0.5819881558418274, \"count\": 1, \"min\": 0.5819881558418274, \"max\": 0.5819881558418274}}}\u001b[0m\n",
      "\u001b[34m#metrics {\"StartTime\": 1742279700.524976, \"EndTime\": 1742279700.524982, \"Dimensions\": {\"Algorithm\": \"Linear Learner\", \"Host\": \"algo-1\", \"Operation\": \"training\", \"epoch\": 4, \"model\": 22}, \"Metrics\": {\"train_absolute_loss_objective\": {\"sum\": 0.5257624387741089, \"count\": 1, \"min\": 0.5257624387741089, \"max\": 0.5257624387741089}}}\u001b[0m\n",
      "\u001b[34m#metrics {\"StartTime\": 1742279700.525021, \"EndTime\": 1742279700.5250268, \"Dimensions\": {\"Algorithm\": \"Linear Learner\", \"Host\": \"algo-1\", \"Operation\": \"training\", \"epoch\": 4, \"model\": 23}, \"Metrics\": {\"train_absolute_loss_objective\": {\"sum\": 0.6048768758773804, \"count\": 1, \"min\": 0.6048768758773804, \"max\": 0.6048768758773804}}}\u001b[0m\n",
      "\u001b[34m#metrics {\"StartTime\": 1742279700.5250645, \"EndTime\": 1742279700.5250702, \"Dimensions\": {\"Algorithm\": \"Linear Learner\", \"Host\": \"algo-1\", \"Operation\": \"training\", \"epoch\": 4, \"model\": 24}, \"Metrics\": {\"train_absolute_loss_objective\": {\"sum\": 0.8024117350578308, \"count\": 1, \"min\": 0.8024117350578308, \"max\": 0.8024117350578308}}}\u001b[0m\n",
      "\u001b[34m#metrics {\"StartTime\": 1742279700.5251076, \"EndTime\": 1742279700.5251136, \"Dimensions\": {\"Algorithm\": \"Linear Learner\", \"Host\": \"algo-1\", \"Operation\": \"training\", \"epoch\": 4, \"model\": 25}, \"Metrics\": {\"train_absolute_loss_objective\": {\"sum\": 0.841823935508728, \"count\": 1, \"min\": 0.841823935508728, \"max\": 0.841823935508728}}}\u001b[0m\n",
      "\u001b[34m#metrics {\"StartTime\": 1742279700.5251524, \"EndTime\": 1742279700.5251582, \"Dimensions\": {\"Algorithm\": \"Linear Learner\", \"Host\": \"algo-1\", \"Operation\": \"training\", \"epoch\": 4, \"model\": 26}, \"Metrics\": {\"train_absolute_loss_objective\": {\"sum\": 0.8314473628997803, \"count\": 1, \"min\": 0.8314473628997803, \"max\": 0.8314473628997803}}}\u001b[0m\n",
      "\u001b[34m#metrics {\"StartTime\": 1742279700.5251956, \"EndTime\": 1742279700.525201, \"Dimensions\": {\"Algorithm\": \"Linear Learner\", \"Host\": \"algo-1\", \"Operation\": \"training\", \"epoch\": 4, \"model\": 27}, \"Metrics\": {\"train_absolute_loss_objective\": {\"sum\": 0.8249849677085876, \"count\": 1, \"min\": 0.8249849677085876, \"max\": 0.8249849677085876}}}\u001b[0m\n",
      "\u001b[34m#metrics {\"StartTime\": 1742279700.5252383, \"EndTime\": 1742279700.525244, \"Dimensions\": {\"Algorithm\": \"Linear Learner\", \"Host\": \"algo-1\", \"Operation\": \"training\", \"epoch\": 4, \"model\": 28}, \"Metrics\": {\"train_absolute_loss_objective\": {\"sum\": 0.7975270748138428, \"count\": 1, \"min\": 0.7975270748138428, \"max\": 0.7975270748138428}}}\u001b[0m\n",
      "\u001b[34m#metrics {\"StartTime\": 1742279700.5252867, \"EndTime\": 1742279700.5252924, \"Dimensions\": {\"Algorithm\": \"Linear Learner\", \"Host\": \"algo-1\", \"Operation\": \"training\", \"epoch\": 4, \"model\": 29}, \"Metrics\": {\"train_absolute_loss_objective\": {\"sum\": 0.7993452548980713, \"count\": 1, \"min\": 0.7993452548980713, \"max\": 0.7993452548980713}}}\u001b[0m\n",
      "\u001b[34m#metrics {\"StartTime\": 1742279700.5253325, \"EndTime\": 1742279700.5253382, \"Dimensions\": {\"Algorithm\": \"Linear Learner\", \"Host\": \"algo-1\", \"Operation\": \"training\", \"epoch\": 4, \"model\": 30}, \"Metrics\": {\"train_absolute_loss_objective\": {\"sum\": 0.8754138946533203, \"count\": 1, \"min\": 0.8754138946533203, \"max\": 0.8754138946533203}}}\u001b[0m\n",
      "\u001b[34m#metrics {\"StartTime\": 1742279700.5253758, \"EndTime\": 1742279700.5253813, \"Dimensions\": {\"Algorithm\": \"Linear Learner\", \"Host\": \"algo-1\", \"Operation\": \"training\", \"epoch\": 4, \"model\": 31}, \"Metrics\": {\"train_absolute_loss_objective\": {\"sum\": 0.7778797745704651, \"count\": 1, \"min\": 0.7778797745704651, \"max\": 0.7778797745704651}}}\u001b[0m\n",
      "\u001b[34m[03/18/2025 06:35:00 INFO 140333394597696] #quality_metric: host=algo-1, epoch=4, train absolute_loss_objective <loss>=0.8149784207344055\u001b[0m\n",
      "\u001b[34m[03/18/2025 06:35:00 INFO 140333394597696] #early_stopping_criteria_metric: host=algo-1, epoch=4, criteria=absolute_loss_objective, value=0.5167702436447144\u001b[0m\n",
      "\u001b[34m[03/18/2025 06:35:00 INFO 140333394597696] Epoch 4: Loss improved. Updating best model\u001b[0m\n",
      "\u001b[34m[03/18/2025 06:35:00 INFO 140333394597696] Saving model for epoch: 4\u001b[0m\n",
      "\u001b[34m[03/18/2025 06:35:00 INFO 140333394597696] Saved checkpoint to \"/tmp/tmpq3p94pu9/mx-mod-0000.params\"\u001b[0m\n",
      "\u001b[34m[03/18/2025 06:35:00 INFO 140333394597696] #progress_metric: host=algo-1, completed 83.33333333333333 % of epochs\u001b[0m\n",
      "\u001b[34m#metrics {\"StartTime\": 1742279700.508667, \"EndTime\": 1742279700.531947, \"Dimensions\": {\"Algorithm\": \"Linear Learner\", \"Host\": \"algo-1\", \"Operation\": \"training\", \"epoch\": 4, \"Meta\": \"training_data_iter\"}, \"Metrics\": {\"Total Records Seen\": {\"sum\": 34.0, \"count\": 1, \"min\": 34, \"max\": 34}, \"Total Batches Seen\": {\"sum\": 13.0, \"count\": 1, \"min\": 13, \"max\": 13}, \"Max Records Seen Between Resets\": {\"sum\": 5.0, \"count\": 1, \"min\": 5, \"max\": 5}, \"Max Batches Seen Between Resets\": {\"sum\": 2.0, \"count\": 1, \"min\": 2, \"max\": 2}, \"Reset Count\": {\"sum\": 7.0, \"count\": 1, \"min\": 7, \"max\": 7}, \"Number of Records Since Last Reset\": {\"sum\": 5.0, \"count\": 1, \"min\": 5, \"max\": 5}, \"Number of Batches Since Last Reset\": {\"sum\": 2.0, \"count\": 1, \"min\": 2, \"max\": 2}}}\u001b[0m\n",
      "\u001b[34m[03/18/2025 06:35:00 INFO 140333394597696] #throughput_metric: host=algo-1, train throughput=213.73120942509757 records/second\u001b[0m\n",
      "\u001b[34m[2025-03-18 06:35:00.544] [tensorio] [info] epoch_stats={\"data_pipeline\": \"/opt/ml/input/data/train\", \"epoch\": 14, \"duration\": 12, \"num_examples\": 2, \"num_bytes\": 240}\u001b[0m\n",
      "\u001b[34m#metrics {\"StartTime\": 1742279700.5447104, \"EndTime\": 1742279700.544751, \"Dimensions\": {\"Algorithm\": \"Linear Learner\", \"Host\": \"algo-1\", \"Operation\": \"training\", \"epoch\": 5, \"model\": 0}, \"Metrics\": {\"train_absolute_loss_objective\": {\"sum\": 0.8115329146385193, \"count\": 1, \"min\": 0.8115329146385193, \"max\": 0.8115329146385193}}}\u001b[0m\n",
      "\u001b[34m#metrics {\"StartTime\": 1742279700.5448227, \"EndTime\": 1742279700.5448313, \"Dimensions\": {\"Algorithm\": \"Linear Learner\", \"Host\": \"algo-1\", \"Operation\": \"training\", \"epoch\": 5, \"model\": 1}, \"Metrics\": {\"train_absolute_loss_objective\": {\"sum\": 0.8273962736129761, \"count\": 1, \"min\": 0.8273962736129761, \"max\": 0.8273962736129761}}}\u001b[0m\n",
      "\u001b[34m#metrics {\"StartTime\": 1742279700.5448782, \"EndTime\": 1742279700.544885, \"Dimensions\": {\"Algorithm\": \"Linear Learner\", \"Host\": \"algo-1\", \"Operation\": \"training\", \"epoch\": 5, \"model\": 2}, \"Metrics\": {\"train_absolute_loss_objective\": {\"sum\": 0.8134545683860779, \"count\": 1, \"min\": 0.8134545683860779, \"max\": 0.8134545683860779}}}\u001b[0m\n",
      "\u001b[34m#metrics {\"StartTime\": 1742279700.5449252, \"EndTime\": 1742279700.5449317, \"Dimensions\": {\"Algorithm\": \"Linear Learner\", \"Host\": \"algo-1\", \"Operation\": \"training\", \"epoch\": 5, \"model\": 3}, \"Metrics\": {\"train_absolute_loss_objective\": {\"sum\": 0.826585590839386, \"count\": 1, \"min\": 0.826585590839386, \"max\": 0.826585590839386}}}\u001b[0m\n",
      "\u001b[34m#metrics {\"StartTime\": 1742279700.5449796, \"EndTime\": 1742279700.5449872, \"Dimensions\": {\"Algorithm\": \"Linear Learner\", \"Host\": \"algo-1\", \"Operation\": \"training\", \"epoch\": 5, \"model\": 4}, \"Metrics\": {\"train_absolute_loss_objective\": {\"sum\": 0.4478602111339569, \"count\": 1, \"min\": 0.4478602111339569, \"max\": 0.4478602111339569}}}\u001b[0m\n",
      "\u001b[34m#metrics {\"StartTime\": 1742279700.5450346, \"EndTime\": 1742279700.5450408, \"Dimensions\": {\"Algorithm\": \"Linear Learner\", \"Host\": \"algo-1\", \"Operation\": \"training\", \"epoch\": 5, \"model\": 5}, \"Metrics\": {\"train_absolute_loss_objective\": {\"sum\": 0.45649629831314087, \"count\": 1, \"min\": 0.45649629831314087, \"max\": 0.45649629831314087}}}\u001b[0m\n",
      "\u001b[34m#metrics {\"StartTime\": 1742279700.5450816, \"EndTime\": 1742279700.5450876, \"Dimensions\": {\"Algorithm\": \"Linear Learner\", \"Host\": \"algo-1\", \"Operation\": \"training\", \"epoch\": 5, \"model\": 6}, \"Metrics\": {\"train_absolute_loss_objective\": {\"sum\": 0.5303027629852295, \"count\": 1, \"min\": 0.5303027629852295, \"max\": 0.5303027629852295}}}\u001b[0m\n",
      "\u001b[34m#metrics {\"StartTime\": 1742279700.5451257, \"EndTime\": 1742279700.5451312, \"Dimensions\": {\"Algorithm\": \"Linear Learner\", \"Host\": \"algo-1\", \"Operation\": \"training\", \"epoch\": 5, \"model\": 7}, \"Metrics\": {\"train_absolute_loss_objective\": {\"sum\": 0.5046060085296631, \"count\": 1, \"min\": 0.5046060085296631, \"max\": 0.5046060085296631}}}\u001b[0m\n",
      "\u001b[34m#metrics {\"StartTime\": 1742279700.5451775, \"EndTime\": 1742279700.5451846, \"Dimensions\": {\"Algorithm\": \"Linear Learner\", \"Host\": \"algo-1\", \"Operation\": \"training\", \"epoch\": 5, \"model\": 8}, \"Metrics\": {\"train_absolute_loss_objective\": {\"sum\": 0.8560734391212463, \"count\": 1, \"min\": 0.8560734391212463, \"max\": 0.8560734391212463}}}\u001b[0m\n",
      "\u001b[34m#metrics {\"StartTime\": 1742279700.545223, \"EndTime\": 1742279700.5452287, \"Dimensions\": {\"Algorithm\": \"Linear Learner\", \"Host\": \"algo-1\", \"Operation\": \"training\", \"epoch\": 5, \"model\": 9}, \"Metrics\": {\"train_absolute_loss_objective\": {\"sum\": 0.8019475936889648, \"count\": 1, \"min\": 0.8019475936889648, \"max\": 0.8019475936889648}}}\u001b[0m\n",
      "\u001b[34m#metrics {\"StartTime\": 1742279700.545253, \"EndTime\": 1742279700.5452588, \"Dimensions\": {\"Algorithm\": \"Linear Learner\", \"Host\": \"algo-1\", \"Operation\": \"training\", \"epoch\": 5, \"model\": 10}, \"Metrics\": {\"train_absolute_loss_objective\": {\"sum\": 0.8072851896286011, \"count\": 1, \"min\": 0.8072851896286011, \"max\": 0.8072851896286011}}}\u001b[0m\n",
      "\u001b[34m#metrics {\"StartTime\": 1742279700.5452774, \"EndTime\": 1742279700.5452826, \"Dimensions\": {\"Algorithm\": \"Linear Learner\", \"Host\": \"algo-1\", \"Operation\": \"training\", \"epoch\": 5, \"model\": 11}, \"Metrics\": {\"train_absolute_loss_objective\": {\"sum\": 0.7954821586608887, \"count\": 1, \"min\": 0.7954821586608887, \"max\": 0.7954821586608887}}}\u001b[0m\n",
      "\u001b[34m#metrics {\"StartTime\": 1742279700.545327, \"EndTime\": 1742279700.5453327, \"Dimensions\": {\"Algorithm\": \"Linear Learner\", \"Host\": \"algo-1\", \"Operation\": \"training\", \"epoch\": 5, \"model\": 12}, \"Metrics\": {\"train_absolute_loss_objective\": {\"sum\": 0.4557497799396515, \"count\": 1, \"min\": 0.4557497799396515, \"max\": 0.4557497799396515}}}\u001b[0m\n",
      "\u001b[34m#metrics {\"StartTime\": 1742279700.545373, \"EndTime\": 1742279700.5453784, \"Dimensions\": {\"Algorithm\": \"Linear Learner\", \"Host\": \"algo-1\", \"Operation\": \"training\", \"epoch\": 5, \"model\": 13}, \"Metrics\": {\"train_absolute_loss_objective\": {\"sum\": 0.47904840111732483, \"count\": 1, \"min\": 0.47904840111732483, \"max\": 0.47904840111732483}}}\u001b[0m\n",
      "\u001b[34m#metrics {\"StartTime\": 1742279700.5454218, \"EndTime\": 1742279700.5454278, \"Dimensions\": {\"Algorithm\": \"Linear Learner\", \"Host\": \"algo-1\", \"Operation\": \"training\", \"epoch\": 5, \"model\": 14}, \"Metrics\": {\"train_absolute_loss_objective\": {\"sum\": 0.4544300436973572, \"count\": 1, \"min\": 0.4544300436973572, \"max\": 0.4544300436973572}}}\u001b[0m\n",
      "\u001b[34m#metrics {\"StartTime\": 1742279700.5454519, \"EndTime\": 1742279700.5454574, \"Dimensions\": {\"Algorithm\": \"Linear Learner\", \"Host\": \"algo-1\", \"Operation\": \"training\", \"epoch\": 5, \"model\": 15}, \"Metrics\": {\"train_absolute_loss_objective\": {\"sum\": 0.48463231325149536, \"count\": 1, \"min\": 0.48463231325149536, \"max\": 0.48463231325149536}}}\u001b[0m\n",
      "\u001b[34m#metrics {\"StartTime\": 1742279700.5454762, \"EndTime\": 1742279700.5454812, \"Dimensions\": {\"Algorithm\": \"Linear Learner\", \"Host\": \"algo-1\", \"Operation\": \"training\", \"epoch\": 5, \"model\": 16}, \"Metrics\": {\"train_absolute_loss_objective\": {\"sum\": 0.7827537655830383, \"count\": 1, \"min\": 0.7827537655830383, \"max\": 0.7827537655830383}}}\u001b[0m\n",
      "\u001b[34m#metrics {\"StartTime\": 1742279700.5455232, \"EndTime\": 1742279700.545529, \"Dimensions\": {\"Algorithm\": \"Linear Learner\", \"Host\": \"algo-1\", \"Operation\": \"training\", \"epoch\": 5, \"model\": 17}, \"Metrics\": {\"train_absolute_loss_objective\": {\"sum\": 0.8236186504364014, \"count\": 1, \"min\": 0.8236186504364014, \"max\": 0.8236186504364014}}}\u001b[0m\n",
      "\u001b[34m#metrics {\"StartTime\": 1742279700.5455701, \"EndTime\": 1742279700.5455759, \"Dimensions\": {\"Algorithm\": \"Linear Learner\", \"Host\": \"algo-1\", \"Operation\": \"training\", \"epoch\": 5, \"model\": 18}, \"Metrics\": {\"train_absolute_loss_objective\": {\"sum\": 0.8043331503868103, \"count\": 1, \"min\": 0.8043331503868103, \"max\": 0.8043331503868103}}}\u001b[0m\n",
      "\u001b[34m#metrics {\"StartTime\": 1742279700.5456197, \"EndTime\": 1742279700.5456266, \"Dimensions\": {\"Algorithm\": \"Linear Learner\", \"Host\": \"algo-1\", \"Operation\": \"training\", \"epoch\": 5, \"model\": 19}, \"Metrics\": {\"train_absolute_loss_objective\": {\"sum\": 0.8021789193153381, \"count\": 1, \"min\": 0.8021789193153381, \"max\": 0.8021789193153381}}}\u001b[0m\n",
      "\u001b[34m#metrics {\"StartTime\": 1742279700.5456517, \"EndTime\": 1742279700.5456574, \"Dimensions\": {\"Algorithm\": \"Linear Learner\", \"Host\": \"algo-1\", \"Operation\": \"training\", \"epoch\": 5, \"model\": 20}, \"Metrics\": {\"train_absolute_loss_objective\": {\"sum\": 0.505023717880249, \"count\": 1, \"min\": 0.505023717880249, \"max\": 0.505023717880249}}}\u001b[0m\n",
      "\u001b[34m#metrics {\"StartTime\": 1742279700.545676, \"EndTime\": 1742279700.5456815, \"Dimensions\": {\"Algorithm\": \"Linear Learner\", \"Host\": \"algo-1\", \"Operation\": \"training\", \"epoch\": 5, \"model\": 21}, \"Metrics\": {\"train_absolute_loss_objective\": {\"sum\": 0.5180452466011047, \"count\": 1, \"min\": 0.5180452466011047, \"max\": 0.5180452466011047}}}\u001b[0m\n",
      "\u001b[34m#metrics {\"StartTime\": 1742279700.5456994, \"EndTime\": 1742279700.5457046, \"Dimensions\": {\"Algorithm\": \"Linear Learner\", \"Host\": \"algo-1\", \"Operation\": \"training\", \"epoch\": 5, \"model\": 22}, \"Metrics\": {\"train_absolute_loss_objective\": {\"sum\": 0.4631454348564148, \"count\": 1, \"min\": 0.4631454348564148, \"max\": 0.4631454348564148}}}\u001b[0m\n",
      "\u001b[34m#metrics {\"StartTime\": 1742279700.5457458, \"EndTime\": 1742279700.5457516, \"Dimensions\": {\"Algorithm\": \"Linear Learner\", \"Host\": \"algo-1\", \"Operation\": \"training\", \"epoch\": 5, \"model\": 23}, \"Metrics\": {\"train_absolute_loss_objective\": {\"sum\": 0.5405282378196716, \"count\": 1, \"min\": 0.5405282378196716, \"max\": 0.5405282378196716}}}\u001b[0m\n",
      "\u001b[34m#metrics {\"StartTime\": 1742279700.545789, \"EndTime\": 1742279700.5457947, \"Dimensions\": {\"Algorithm\": \"Linear Learner\", \"Host\": \"algo-1\", \"Operation\": \"training\", \"epoch\": 5, \"model\": 24}, \"Metrics\": {\"train_absolute_loss_objective\": {\"sum\": 0.8057479858398438, \"count\": 1, \"min\": 0.8057479858398438, \"max\": 0.8057479858398438}}}\u001b[0m\n",
      "\u001b[34m#metrics {\"StartTime\": 1742279700.5458386, \"EndTime\": 1742279700.546324, \"Dimensions\": {\"Algorithm\": \"Linear Learner\", \"Host\": \"algo-1\", \"Operation\": \"training\", \"epoch\": 5, \"model\": 25}, \"Metrics\": {\"train_absolute_loss_objective\": {\"sum\": 0.8385941386222839, \"count\": 1, \"min\": 0.8385941386222839, \"max\": 0.8385941386222839}}}\u001b[0m\n",
      "\u001b[34m#metrics {\"StartTime\": 1742279700.546353, \"EndTime\": 1742279700.5463593, \"Dimensions\": {\"Algorithm\": \"Linear Learner\", \"Host\": \"algo-1\", \"Operation\": \"training\", \"epoch\": 5, \"model\": 26}, \"Metrics\": {\"train_absolute_loss_objective\": {\"sum\": 0.8286049365997314, \"count\": 1, \"min\": 0.8286049365997314, \"max\": 0.8286049365997314}}}\u001b[0m\n",
      "\u001b[34m#metrics {\"StartTime\": 1742279700.546405, \"EndTime\": 1742279700.546411, \"Dimensions\": {\"Algorithm\": \"Linear Learner\", \"Host\": \"algo-1\", \"Operation\": \"training\", \"epoch\": 5, \"model\": 27}, \"Metrics\": {\"train_absolute_loss_objective\": {\"sum\": 0.8246808052062988, \"count\": 1, \"min\": 0.8246808052062988, \"max\": 0.8246808052062988}}}\u001b[0m\n",
      "\u001b[34m#metrics {\"StartTime\": 1742279700.5464704, \"EndTime\": 1742279700.5464768, \"Dimensions\": {\"Algorithm\": \"Linear Learner\", \"Host\": \"algo-1\", \"Operation\": \"training\", \"epoch\": 5, \"model\": 28}, \"Metrics\": {\"train_absolute_loss_objective\": {\"sum\": 0.8023250102996826, \"count\": 1, \"min\": 0.8023250102996826, \"max\": 0.8023250102996826}}}\u001b[0m\n",
      "\u001b[34m#metrics {\"StartTime\": 1742279700.5465152, \"EndTime\": 1742279700.5465212, \"Dimensions\": {\"Algorithm\": \"Linear Learner\", \"Host\": \"algo-1\", \"Operation\": \"training\", \"epoch\": 5, \"model\": 29}, \"Metrics\": {\"train_absolute_loss_objective\": {\"sum\": 0.8025498390197754, \"count\": 1, \"min\": 0.8025498390197754, \"max\": 0.8025498390197754}}}\u001b[0m\n",
      "\u001b[34m#metrics {\"StartTime\": 1742279700.5465584, \"EndTime\": 1742279700.546564, \"Dimensions\": {\"Algorithm\": \"Linear Learner\", \"Host\": \"algo-1\", \"Operation\": \"training\", \"epoch\": 5, \"model\": 30}, \"Metrics\": {\"train_absolute_loss_objective\": {\"sum\": 0.8670004606246948, \"count\": 1, \"min\": 0.8670004606246948, \"max\": 0.8670004606246948}}}\u001b[0m\n",
      "\u001b[34m#metrics {\"StartTime\": 1742279700.5466037, \"EndTime\": 1742279700.5466094, \"Dimensions\": {\"Algorithm\": \"Linear Learner\", \"Host\": \"algo-1\", \"Operation\": \"training\", \"epoch\": 5, \"model\": 31}, \"Metrics\": {\"train_absolute_loss_objective\": {\"sum\": 0.785041868686676, \"count\": 1, \"min\": 0.785041868686676, \"max\": 0.785041868686676}}}\u001b[0m\n",
      "\u001b[34m[03/18/2025 06:35:00 INFO 140333394597696] #quality_metric: host=algo-1, epoch=5, train absolute_loss_objective <loss>=0.8115329146385193\u001b[0m\n",
      "\u001b[34m[03/18/2025 06:35:00 INFO 140333394597696] #early_stopping_criteria_metric: host=algo-1, epoch=5, criteria=absolute_loss_objective, value=0.4478602111339569\u001b[0m\n",
      "\u001b[34m[03/18/2025 06:35:00 INFO 140333394597696] Epoch 5: Loss improved. Updating best model\u001b[0m\n",
      "\u001b[34m[03/18/2025 06:35:00 INFO 140333394597696] Saving model for epoch: 5\u001b[0m\n",
      "\u001b[34m[03/18/2025 06:35:00 INFO 140333394597696] Saved checkpoint to \"/tmp/tmptjmoefbm/mx-mod-0000.params\"\u001b[0m\n",
      "\u001b[34m[03/18/2025 06:35:00 INFO 140333394597696] #progress_metric: host=algo-1, completed 100.0 % of epochs\u001b[0m\n",
      "\u001b[34m#metrics {\"StartTime\": 1742279700.532159, \"EndTime\": 1742279700.5525048, \"Dimensions\": {\"Algorithm\": \"Linear Learner\", \"Host\": \"algo-1\", \"Operation\": \"training\", \"epoch\": 5, \"Meta\": \"training_data_iter\"}, \"Metrics\": {\"Total Records Seen\": {\"sum\": 39.0, \"count\": 1, \"min\": 39, \"max\": 39}, \"Total Batches Seen\": {\"sum\": 15.0, \"count\": 1, \"min\": 15, \"max\": 15}, \"Max Records Seen Between Resets\": {\"sum\": 5.0, \"count\": 1, \"min\": 5, \"max\": 5}, \"Max Batches Seen Between Resets\": {\"sum\": 2.0, \"count\": 1, \"min\": 2, \"max\": 2}, \"Reset Count\": {\"sum\": 8.0, \"count\": 1, \"min\": 8, \"max\": 8}, \"Number of Records Since Last Reset\": {\"sum\": 5.0, \"count\": 1, \"min\": 5, \"max\": 5}, \"Number of Batches Since Last Reset\": {\"sum\": 2.0, \"count\": 1, \"min\": 2, \"max\": 2}}}\u001b[0m\n",
      "\u001b[34m[03/18/2025 06:35:00 INFO 140333394597696] #throughput_metric: host=algo-1, train throughput=244.78563841583696 records/second\u001b[0m\n",
      "\u001b[34m[03/18/2025 06:35:00 WARNING 140333394597696] wait_for_all_workers will not sync workers since the kv store is not running distributed\u001b[0m\n",
      "\u001b[34m[03/18/2025 06:35:00 WARNING 140333394597696] wait_for_all_workers will not sync workers since the kv store is not running distributed\u001b[0m\n",
      "\u001b[34m[2025-03-18 06:35:00.559] [tensorio] [info] epoch_stats={\"data_pipeline\": \"/opt/ml/input/data/train\", \"epoch\": 16, \"duration\": 0, \"num_examples\": 1, \"num_bytes\": 192}\u001b[0m\n",
      "\u001b[34m[2025-03-18 06:35:00.565] [tensorio] [info] epoch_stats={\"data_pipeline\": \"/opt/ml/input/data/train\", \"epoch\": 18, \"duration\": 1, \"num_examples\": 2, \"num_bytes\": 240}\u001b[0m\n",
      "\u001b[34m[03/18/2025 06:35:00 INFO 140333394597696] #train_score (algo-1) : ('absolute_loss_objective', 6.179905700683594)\u001b[0m\n",
      "\u001b[34m[03/18/2025 06:35:00 INFO 140333394597696] #train_score (algo-1) : ('mse', 40.72340431213379)\u001b[0m\n",
      "\u001b[34m[03/18/2025 06:35:00 INFO 140333394597696] #train_score (algo-1) : ('absolute_loss', 6.179905700683594)\u001b[0m\n",
      "\u001b[34m[03/18/2025 06:35:00 INFO 140333394597696] #train_score (algo-1) : ('rmse', 6.381489192354226)\u001b[0m\n",
      "\u001b[34m[03/18/2025 06:35:00 INFO 140333394597696] #train_score (algo-1) : ('r2', 0.8408247190444029)\u001b[0m\n",
      "\u001b[34m[03/18/2025 06:35:00 INFO 140333394597696] #train_score (algo-1) : ('mae', 6.179905700683594)\u001b[0m\n",
      "\u001b[34m[03/18/2025 06:35:00 INFO 140333394597696] #quality_metric: host=algo-1, train absolute_loss_objective <loss>=6.179905700683594\u001b[0m\n",
      "\u001b[34m[03/18/2025 06:35:00 INFO 140333394597696] #quality_metric: host=algo-1, train mse <loss>=40.72340431213379\u001b[0m\n",
      "\u001b[34m[03/18/2025 06:35:00 INFO 140333394597696] #quality_metric: host=algo-1, train absolute_loss <loss>=6.179905700683594\u001b[0m\n",
      "\u001b[34m[03/18/2025 06:35:00 INFO 140333394597696] #quality_metric: host=algo-1, train rmse <loss>=6.381489192354226\u001b[0m\n",
      "\u001b[34m[03/18/2025 06:35:00 INFO 140333394597696] #quality_metric: host=algo-1, train r2 <loss>=0.8408247190444029\u001b[0m\n",
      "\u001b[34m[03/18/2025 06:35:00 INFO 140333394597696] #quality_metric: host=algo-1, train mae <loss>=6.179905700683594\u001b[0m\n",
      "\u001b[34m[03/18/2025 06:35:00 INFO 140333394597696] Best model found for hyperparameters: {\"optimizer\": \"adam\", \"learning_rate\": 0.1, \"wd\": 0.0001, \"l1\": 0.0, \"lr_scheduler_step\": 10, \"lr_scheduler_factor\": 0.99, \"lr_scheduler_minimum_lr\": 1e-05}\u001b[0m\n",
      "\u001b[34m[03/18/2025 06:35:00 INFO 140333394597696] Saved checkpoint to \"/tmp/tmptjwvwqu0/mx-mod-0000.params\"\u001b[0m\n",
      "\u001b[34m[03/18/2025 06:35:00 INFO 140333394597696] Test data is not provided.\u001b[0m\n",
      "\u001b[34m#metrics {\"StartTime\": 1742279700.305742, \"EndTime\": 1742279700.5714765, \"Dimensions\": {\"Algorithm\": \"Linear Learner\", \"Host\": \"algo-1\", \"Operation\": \"training\"}, \"Metrics\": {\"initialize.time\": {\"sum\": 106.0478687286377, \"count\": 1, \"min\": 106.0478687286377, \"max\": 106.0478687286377}, \"epochs\": {\"sum\": 6.0, \"count\": 1, \"min\": 6, \"max\": 6}, \"check_early_stopping.time\": {\"sum\": 4.324674606323242, \"count\": 6, \"min\": 0.6711483001708984, \"max\": 0.7715225219726562}, \"update.time\": {\"sum\": 125.49471855163574, \"count\": 6, \"min\": 18.496990203857422, \"max\": 28.568029403686523}, \"finalize.time\": {\"sum\": 14.253616333007812, \"count\": 1, \"min\": 14.253616333007812, \"max\": 14.253616333007812}, \"setuptime\": {\"sum\": 2.2640228271484375, \"count\": 1, \"min\": 2.2640228271484375, \"max\": 2.2640228271484375}, \"totaltime\": {\"sum\": 356.05907440185547, \"count\": 1, \"min\": 356.05907440185547, \"max\": 356.05907440185547}}}\u001b[0m\n",
      "\n",
      "2025-03-18 06:35:16 Uploading - Uploading generated training model\n",
      "2025-03-18 06:35:16 Completed - Training job completed\n",
      "Training seconds: 180\n",
      "Billable seconds: 180\n"
     ]
    }
   ],
   "source": [
    "#fit the model\n",
    "linear.fit({\"train\":s3_train_data})"
   ]
  },
  {
   "cell_type": "code",
   "execution_count": 41,
   "id": "27817fd9-f7dc-4fe8-920d-7561734d2398",
   "metadata": {
    "tags": []
   },
   "outputs": [
    {
     "data": {
      "text/html": [
       "<pre style=\"white-space:pre;overflow-x:auto;line-height:normal;font-family:Menlo,'DejaVu Sans Mono',consolas,'Courier New',monospace\"><span style=\"color: #7fbfbf; text-decoration-color: #7fbfbf\">[03/18/25 06:35:55] </span><span style=\"color: #0069ff; text-decoration-color: #0069ff; font-weight: bold\">INFO    </span> Creating model with name: linear-learner-<span style=\"color: #008080; text-decoration-color: #008080; font-weight: bold\">2025</span>-03-18-06-35-55-232       <a href=\"file:///opt/conda/lib/python3.11/site-packages/sagemaker/session.py\" target=\"_blank\"><span style=\"color: #7f7f7f; text-decoration-color: #7f7f7f\">session.py</span></a><span style=\"color: #7f7f7f; text-decoration-color: #7f7f7f\">:</span><a href=\"file:///opt/conda/lib/python3.11/site-packages/sagemaker/session.py#4094\" target=\"_blank\"><span style=\"color: #7f7f7f; text-decoration-color: #7f7f7f\">4094</span></a>\n",
       "</pre>\n"
      ],
      "text/plain": [
       "\u001b[2;36m[03/18/25 06:35:55]\u001b[0m\u001b[2;36m \u001b[0m\u001b[1;38;2;0;105;255mINFO    \u001b[0m Creating model with name: linear-learner-\u001b[1;36m2025\u001b[0m-03-18-06-35-55-232       \u001b]8;id=495736;file:///opt/conda/lib/python3.11/site-packages/sagemaker/session.py\u001b\\\u001b[2msession.py\u001b[0m\u001b]8;;\u001b\\\u001b[2m:\u001b[0m\u001b]8;id=970917;file:///opt/conda/lib/python3.11/site-packages/sagemaker/session.py#4094\u001b\\\u001b[2m4094\u001b[0m\u001b]8;;\u001b\\\n"
      ]
     },
     "metadata": {},
     "output_type": "display_data"
    },
    {
     "data": {
      "text/html": [
       "<pre style=\"white-space:pre;overflow-x:auto;line-height:normal;font-family:Menlo,'DejaVu Sans Mono',consolas,'Courier New',monospace\"><span style=\"color: #7fbfbf; text-decoration-color: #7fbfbf\">                    </span><span style=\"color: #0069ff; text-decoration-color: #0069ff; font-weight: bold\">INFO    </span> Creating endpoint-config with name                                     <a href=\"file:///opt/conda/lib/python3.11/site-packages/sagemaker/session.py\" target=\"_blank\"><span style=\"color: #7f7f7f; text-decoration-color: #7f7f7f\">session.py</span></a><span style=\"color: #7f7f7f; text-decoration-color: #7f7f7f\">:</span><a href=\"file:///opt/conda/lib/python3.11/site-packages/sagemaker/session.py#5889\" target=\"_blank\"><span style=\"color: #7f7f7f; text-decoration-color: #7f7f7f\">5889</span></a>\n",
       "<span style=\"color: #7fbfbf; text-decoration-color: #7fbfbf\">                    </span>         linear-learner-<span style=\"color: #008080; text-decoration-color: #008080; font-weight: bold\">2025</span>-03-18-06-35-55-232                                 <span style=\"color: #7f7f7f; text-decoration-color: #7f7f7f\">               </span>\n",
       "</pre>\n"
      ],
      "text/plain": [
       "\u001b[2;36m                   \u001b[0m\u001b[2;36m \u001b[0m\u001b[1;38;2;0;105;255mINFO    \u001b[0m Creating endpoint-config with name                                     \u001b]8;id=296190;file:///opt/conda/lib/python3.11/site-packages/sagemaker/session.py\u001b\\\u001b[2msession.py\u001b[0m\u001b]8;;\u001b\\\u001b[2m:\u001b[0m\u001b]8;id=377213;file:///opt/conda/lib/python3.11/site-packages/sagemaker/session.py#5889\u001b\\\u001b[2m5889\u001b[0m\u001b]8;;\u001b\\\n",
       "\u001b[2;36m                    \u001b[0m         linear-learner-\u001b[1;36m2025\u001b[0m-03-18-06-35-55-232                                 \u001b[2m               \u001b[0m\n"
      ]
     },
     "metadata": {},
     "output_type": "display_data"
    },
    {
     "data": {
      "text/html": [
       "<pre style=\"white-space:pre;overflow-x:auto;line-height:normal;font-family:Menlo,'DejaVu Sans Mono',consolas,'Courier New',monospace\"><span style=\"color: #7fbfbf; text-decoration-color: #7fbfbf\">[03/18/25 06:35:56] </span><span style=\"color: #0069ff; text-decoration-color: #0069ff; font-weight: bold\">INFO    </span> Creating endpoint with name linear-learner-<span style=\"color: #008080; text-decoration-color: #008080; font-weight: bold\">2025</span>-03-18-06-35-55-232     <a href=\"file:///opt/conda/lib/python3.11/site-packages/sagemaker/session.py\" target=\"_blank\"><span style=\"color: #7f7f7f; text-decoration-color: #7f7f7f\">session.py</span></a><span style=\"color: #7f7f7f; text-decoration-color: #7f7f7f\">:</span><a href=\"file:///opt/conda/lib/python3.11/site-packages/sagemaker/session.py#4711\" target=\"_blank\"><span style=\"color: #7f7f7f; text-decoration-color: #7f7f7f\">4711</span></a>\n",
       "</pre>\n"
      ],
      "text/plain": [
       "\u001b[2;36m[03/18/25 06:35:56]\u001b[0m\u001b[2;36m \u001b[0m\u001b[1;38;2;0;105;255mINFO    \u001b[0m Creating endpoint with name linear-learner-\u001b[1;36m2025\u001b[0m-03-18-06-35-55-232     \u001b]8;id=2901;file:///opt/conda/lib/python3.11/site-packages/sagemaker/session.py\u001b\\\u001b[2msession.py\u001b[0m\u001b]8;;\u001b\\\u001b[2m:\u001b[0m\u001b]8;id=834627;file:///opt/conda/lib/python3.11/site-packages/sagemaker/session.py#4711\u001b\\\u001b[2m4711\u001b[0m\u001b]8;;\u001b\\\n"
      ]
     },
     "metadata": {},
     "output_type": "display_data"
    },
    {
     "name": "stdout",
     "output_type": "stream",
     "text": [
      "----------!"
     ]
    }
   ],
   "source": [
    "#deploy the model\n",
    "linear_regresor=linear.deploy(initial_instance_count=1,instance_type=\"ml.m4.xlarge\")"
   ]
  },
  {
   "cell_type": "code",
   "execution_count": 42,
   "id": "7a95e268-b9bb-4223-ae2a-b968dfe9d206",
   "metadata": {
    "tags": []
   },
   "outputs": [],
   "source": [
    "linear_regresor.serializer=sagemaker.serializers.CSVSerializer()\n",
    "linear_regresor.deserializer=sagemaker.deserializers.JSONDeserializer()"
   ]
  },
  {
   "cell_type": "code",
   "execution_count": 43,
   "id": "73471cd2-d470-49fb-92e9-b03a6972f1ed",
   "metadata": {
    "tags": []
   },
   "outputs": [],
   "source": [
    "#prediction\n",
    "results=linear_regresor.predict(X_test)"
   ]
  },
  {
   "cell_type": "code",
   "execution_count": 44,
   "id": "e45c5204-0921-4df8-af1f-c45db1baea0c",
   "metadata": {
    "tags": []
   },
   "outputs": [
    {
     "data": {
      "text/plain": [
       "{'predictions': [{'score': 72.52403259277344},\n",
       "  {'score': 49.063316345214844},\n",
       "  {'score': 42.360252380371094},\n",
       "  {'score': 47.05239486694336},\n",
       "  {'score': 51.0742301940918}]}"
      ]
     },
     "execution_count": 44,
     "metadata": {},
     "output_type": "execute_result"
    }
   ],
   "source": [
    "results"
   ]
  },
  {
   "cell_type": "code",
   "execution_count": 45,
   "id": "5a2a13e1-e8f3-445b-8b5a-bf1b947a933c",
   "metadata": {
    "tags": []
   },
   "outputs": [],
   "source": [
    "predictions=np.array([i[\"score\"] for i in results[\"predictions\"]])"
   ]
  },
  {
   "cell_type": "code",
   "execution_count": 46,
   "id": "708fab85-aecc-4184-ad71-db564c2d3342",
   "metadata": {
    "tags": []
   },
   "outputs": [
    {
     "data": {
      "text/plain": [
       "array([72.52403259, 49.06331635, 42.36025238, 47.05239487, 51.07423019])"
      ]
     },
     "execution_count": 46,
     "metadata": {},
     "output_type": "execute_result"
    }
   ],
   "source": [
    "predictions"
   ]
  },
  {
   "cell_type": "code",
   "execution_count": null,
   "id": "7c88f9d3-2b69-451d-ad2a-e525b0cc8572",
   "metadata": {},
   "outputs": [],
   "source": []
  },
  {
   "cell_type": "code",
   "execution_count": null,
   "id": "15ad8e27-8756-4439-8a93-d18002b7d668",
   "metadata": {},
   "outputs": [],
   "source": []
  },
  {
   "cell_type": "code",
   "execution_count": null,
   "id": "1c889e53-4cae-4b15-b479-af987c27dd44",
   "metadata": {},
   "outputs": [],
   "source": []
  },
  {
   "cell_type": "code",
   "execution_count": null,
   "id": "41a37128-119c-4ccd-aef4-1a9f214eac5a",
   "metadata": {},
   "outputs": [],
   "source": []
  }
 ],
 "metadata": {
  "availableInstances": [
   {
    "_defaultOrder": 0,
    "_isFastLaunch": true,
    "category": "General purpose",
    "gpuNum": 0,
    "hideHardwareSpecs": false,
    "memoryGiB": 4,
    "name": "ml.t3.medium",
    "vcpuNum": 2
   },
   {
    "_defaultOrder": 1,
    "_isFastLaunch": false,
    "category": "General purpose",
    "gpuNum": 0,
    "hideHardwareSpecs": false,
    "memoryGiB": 8,
    "name": "ml.t3.large",
    "vcpuNum": 2
   },
   {
    "_defaultOrder": 2,
    "_isFastLaunch": false,
    "category": "General purpose",
    "gpuNum": 0,
    "hideHardwareSpecs": false,
    "memoryGiB": 16,
    "name": "ml.t3.xlarge",
    "vcpuNum": 4
   },
   {
    "_defaultOrder": 3,
    "_isFastLaunch": false,
    "category": "General purpose",
    "gpuNum": 0,
    "hideHardwareSpecs": false,
    "memoryGiB": 32,
    "name": "ml.t3.2xlarge",
    "vcpuNum": 8
   },
   {
    "_defaultOrder": 4,
    "_isFastLaunch": true,
    "category": "General purpose",
    "gpuNum": 0,
    "hideHardwareSpecs": false,
    "memoryGiB": 8,
    "name": "ml.m5.large",
    "vcpuNum": 2
   },
   {
    "_defaultOrder": 5,
    "_isFastLaunch": false,
    "category": "General purpose",
    "gpuNum": 0,
    "hideHardwareSpecs": false,
    "memoryGiB": 16,
    "name": "ml.m5.xlarge",
    "vcpuNum": 4
   },
   {
    "_defaultOrder": 6,
    "_isFastLaunch": false,
    "category": "General purpose",
    "gpuNum": 0,
    "hideHardwareSpecs": false,
    "memoryGiB": 32,
    "name": "ml.m5.2xlarge",
    "vcpuNum": 8
   },
   {
    "_defaultOrder": 7,
    "_isFastLaunch": false,
    "category": "General purpose",
    "gpuNum": 0,
    "hideHardwareSpecs": false,
    "memoryGiB": 64,
    "name": "ml.m5.4xlarge",
    "vcpuNum": 16
   },
   {
    "_defaultOrder": 8,
    "_isFastLaunch": false,
    "category": "General purpose",
    "gpuNum": 0,
    "hideHardwareSpecs": false,
    "memoryGiB": 128,
    "name": "ml.m5.8xlarge",
    "vcpuNum": 32
   },
   {
    "_defaultOrder": 9,
    "_isFastLaunch": false,
    "category": "General purpose",
    "gpuNum": 0,
    "hideHardwareSpecs": false,
    "memoryGiB": 192,
    "name": "ml.m5.12xlarge",
    "vcpuNum": 48
   },
   {
    "_defaultOrder": 10,
    "_isFastLaunch": false,
    "category": "General purpose",
    "gpuNum": 0,
    "hideHardwareSpecs": false,
    "memoryGiB": 256,
    "name": "ml.m5.16xlarge",
    "vcpuNum": 64
   },
   {
    "_defaultOrder": 11,
    "_isFastLaunch": false,
    "category": "General purpose",
    "gpuNum": 0,
    "hideHardwareSpecs": false,
    "memoryGiB": 384,
    "name": "ml.m5.24xlarge",
    "vcpuNum": 96
   },
   {
    "_defaultOrder": 12,
    "_isFastLaunch": false,
    "category": "General purpose",
    "gpuNum": 0,
    "hideHardwareSpecs": false,
    "memoryGiB": 8,
    "name": "ml.m5d.large",
    "vcpuNum": 2
   },
   {
    "_defaultOrder": 13,
    "_isFastLaunch": false,
    "category": "General purpose",
    "gpuNum": 0,
    "hideHardwareSpecs": false,
    "memoryGiB": 16,
    "name": "ml.m5d.xlarge",
    "vcpuNum": 4
   },
   {
    "_defaultOrder": 14,
    "_isFastLaunch": false,
    "category": "General purpose",
    "gpuNum": 0,
    "hideHardwareSpecs": false,
    "memoryGiB": 32,
    "name": "ml.m5d.2xlarge",
    "vcpuNum": 8
   },
   {
    "_defaultOrder": 15,
    "_isFastLaunch": false,
    "category": "General purpose",
    "gpuNum": 0,
    "hideHardwareSpecs": false,
    "memoryGiB": 64,
    "name": "ml.m5d.4xlarge",
    "vcpuNum": 16
   },
   {
    "_defaultOrder": 16,
    "_isFastLaunch": false,
    "category": "General purpose",
    "gpuNum": 0,
    "hideHardwareSpecs": false,
    "memoryGiB": 128,
    "name": "ml.m5d.8xlarge",
    "vcpuNum": 32
   },
   {
    "_defaultOrder": 17,
    "_isFastLaunch": false,
    "category": "General purpose",
    "gpuNum": 0,
    "hideHardwareSpecs": false,
    "memoryGiB": 192,
    "name": "ml.m5d.12xlarge",
    "vcpuNum": 48
   },
   {
    "_defaultOrder": 18,
    "_isFastLaunch": false,
    "category": "General purpose",
    "gpuNum": 0,
    "hideHardwareSpecs": false,
    "memoryGiB": 256,
    "name": "ml.m5d.16xlarge",
    "vcpuNum": 64
   },
   {
    "_defaultOrder": 19,
    "_isFastLaunch": false,
    "category": "General purpose",
    "gpuNum": 0,
    "hideHardwareSpecs": false,
    "memoryGiB": 384,
    "name": "ml.m5d.24xlarge",
    "vcpuNum": 96
   },
   {
    "_defaultOrder": 20,
    "_isFastLaunch": false,
    "category": "General purpose",
    "gpuNum": 0,
    "hideHardwareSpecs": true,
    "memoryGiB": 0,
    "name": "ml.geospatial.interactive",
    "supportedImageNames": [
     "sagemaker-geospatial-v1-0"
    ],
    "vcpuNum": 0
   },
   {
    "_defaultOrder": 21,
    "_isFastLaunch": true,
    "category": "Compute optimized",
    "gpuNum": 0,
    "hideHardwareSpecs": false,
    "memoryGiB": 4,
    "name": "ml.c5.large",
    "vcpuNum": 2
   },
   {
    "_defaultOrder": 22,
    "_isFastLaunch": false,
    "category": "Compute optimized",
    "gpuNum": 0,
    "hideHardwareSpecs": false,
    "memoryGiB": 8,
    "name": "ml.c5.xlarge",
    "vcpuNum": 4
   },
   {
    "_defaultOrder": 23,
    "_isFastLaunch": false,
    "category": "Compute optimized",
    "gpuNum": 0,
    "hideHardwareSpecs": false,
    "memoryGiB": 16,
    "name": "ml.c5.2xlarge",
    "vcpuNum": 8
   },
   {
    "_defaultOrder": 24,
    "_isFastLaunch": false,
    "category": "Compute optimized",
    "gpuNum": 0,
    "hideHardwareSpecs": false,
    "memoryGiB": 32,
    "name": "ml.c5.4xlarge",
    "vcpuNum": 16
   },
   {
    "_defaultOrder": 25,
    "_isFastLaunch": false,
    "category": "Compute optimized",
    "gpuNum": 0,
    "hideHardwareSpecs": false,
    "memoryGiB": 72,
    "name": "ml.c5.9xlarge",
    "vcpuNum": 36
   },
   {
    "_defaultOrder": 26,
    "_isFastLaunch": false,
    "category": "Compute optimized",
    "gpuNum": 0,
    "hideHardwareSpecs": false,
    "memoryGiB": 96,
    "name": "ml.c5.12xlarge",
    "vcpuNum": 48
   },
   {
    "_defaultOrder": 27,
    "_isFastLaunch": false,
    "category": "Compute optimized",
    "gpuNum": 0,
    "hideHardwareSpecs": false,
    "memoryGiB": 144,
    "name": "ml.c5.18xlarge",
    "vcpuNum": 72
   },
   {
    "_defaultOrder": 28,
    "_isFastLaunch": false,
    "category": "Compute optimized",
    "gpuNum": 0,
    "hideHardwareSpecs": false,
    "memoryGiB": 192,
    "name": "ml.c5.24xlarge",
    "vcpuNum": 96
   },
   {
    "_defaultOrder": 29,
    "_isFastLaunch": true,
    "category": "Accelerated computing",
    "gpuNum": 1,
    "hideHardwareSpecs": false,
    "memoryGiB": 16,
    "name": "ml.g4dn.xlarge",
    "vcpuNum": 4
   },
   {
    "_defaultOrder": 30,
    "_isFastLaunch": false,
    "category": "Accelerated computing",
    "gpuNum": 1,
    "hideHardwareSpecs": false,
    "memoryGiB": 32,
    "name": "ml.g4dn.2xlarge",
    "vcpuNum": 8
   },
   {
    "_defaultOrder": 31,
    "_isFastLaunch": false,
    "category": "Accelerated computing",
    "gpuNum": 1,
    "hideHardwareSpecs": false,
    "memoryGiB": 64,
    "name": "ml.g4dn.4xlarge",
    "vcpuNum": 16
   },
   {
    "_defaultOrder": 32,
    "_isFastLaunch": false,
    "category": "Accelerated computing",
    "gpuNum": 1,
    "hideHardwareSpecs": false,
    "memoryGiB": 128,
    "name": "ml.g4dn.8xlarge",
    "vcpuNum": 32
   },
   {
    "_defaultOrder": 33,
    "_isFastLaunch": false,
    "category": "Accelerated computing",
    "gpuNum": 4,
    "hideHardwareSpecs": false,
    "memoryGiB": 192,
    "name": "ml.g4dn.12xlarge",
    "vcpuNum": 48
   },
   {
    "_defaultOrder": 34,
    "_isFastLaunch": false,
    "category": "Accelerated computing",
    "gpuNum": 1,
    "hideHardwareSpecs": false,
    "memoryGiB": 256,
    "name": "ml.g4dn.16xlarge",
    "vcpuNum": 64
   },
   {
    "_defaultOrder": 35,
    "_isFastLaunch": false,
    "category": "Accelerated computing",
    "gpuNum": 1,
    "hideHardwareSpecs": false,
    "memoryGiB": 61,
    "name": "ml.p3.2xlarge",
    "vcpuNum": 8
   },
   {
    "_defaultOrder": 36,
    "_isFastLaunch": false,
    "category": "Accelerated computing",
    "gpuNum": 4,
    "hideHardwareSpecs": false,
    "memoryGiB": 244,
    "name": "ml.p3.8xlarge",
    "vcpuNum": 32
   },
   {
    "_defaultOrder": 37,
    "_isFastLaunch": false,
    "category": "Accelerated computing",
    "gpuNum": 8,
    "hideHardwareSpecs": false,
    "memoryGiB": 488,
    "name": "ml.p3.16xlarge",
    "vcpuNum": 64
   },
   {
    "_defaultOrder": 38,
    "_isFastLaunch": false,
    "category": "Accelerated computing",
    "gpuNum": 8,
    "hideHardwareSpecs": false,
    "memoryGiB": 768,
    "name": "ml.p3dn.24xlarge",
    "vcpuNum": 96
   },
   {
    "_defaultOrder": 39,
    "_isFastLaunch": false,
    "category": "Memory Optimized",
    "gpuNum": 0,
    "hideHardwareSpecs": false,
    "memoryGiB": 16,
    "name": "ml.r5.large",
    "vcpuNum": 2
   },
   {
    "_defaultOrder": 40,
    "_isFastLaunch": false,
    "category": "Memory Optimized",
    "gpuNum": 0,
    "hideHardwareSpecs": false,
    "memoryGiB": 32,
    "name": "ml.r5.xlarge",
    "vcpuNum": 4
   },
   {
    "_defaultOrder": 41,
    "_isFastLaunch": false,
    "category": "Memory Optimized",
    "gpuNum": 0,
    "hideHardwareSpecs": false,
    "memoryGiB": 64,
    "name": "ml.r5.2xlarge",
    "vcpuNum": 8
   },
   {
    "_defaultOrder": 42,
    "_isFastLaunch": false,
    "category": "Memory Optimized",
    "gpuNum": 0,
    "hideHardwareSpecs": false,
    "memoryGiB": 128,
    "name": "ml.r5.4xlarge",
    "vcpuNum": 16
   },
   {
    "_defaultOrder": 43,
    "_isFastLaunch": false,
    "category": "Memory Optimized",
    "gpuNum": 0,
    "hideHardwareSpecs": false,
    "memoryGiB": 256,
    "name": "ml.r5.8xlarge",
    "vcpuNum": 32
   },
   {
    "_defaultOrder": 44,
    "_isFastLaunch": false,
    "category": "Memory Optimized",
    "gpuNum": 0,
    "hideHardwareSpecs": false,
    "memoryGiB": 384,
    "name": "ml.r5.12xlarge",
    "vcpuNum": 48
   },
   {
    "_defaultOrder": 45,
    "_isFastLaunch": false,
    "category": "Memory Optimized",
    "gpuNum": 0,
    "hideHardwareSpecs": false,
    "memoryGiB": 512,
    "name": "ml.r5.16xlarge",
    "vcpuNum": 64
   },
   {
    "_defaultOrder": 46,
    "_isFastLaunch": false,
    "category": "Memory Optimized",
    "gpuNum": 0,
    "hideHardwareSpecs": false,
    "memoryGiB": 768,
    "name": "ml.r5.24xlarge",
    "vcpuNum": 96
   },
   {
    "_defaultOrder": 47,
    "_isFastLaunch": false,
    "category": "Accelerated computing",
    "gpuNum": 1,
    "hideHardwareSpecs": false,
    "memoryGiB": 16,
    "name": "ml.g5.xlarge",
    "vcpuNum": 4
   },
   {
    "_defaultOrder": 48,
    "_isFastLaunch": false,
    "category": "Accelerated computing",
    "gpuNum": 1,
    "hideHardwareSpecs": false,
    "memoryGiB": 32,
    "name": "ml.g5.2xlarge",
    "vcpuNum": 8
   },
   {
    "_defaultOrder": 49,
    "_isFastLaunch": false,
    "category": "Accelerated computing",
    "gpuNum": 1,
    "hideHardwareSpecs": false,
    "memoryGiB": 64,
    "name": "ml.g5.4xlarge",
    "vcpuNum": 16
   },
   {
    "_defaultOrder": 50,
    "_isFastLaunch": false,
    "category": "Accelerated computing",
    "gpuNum": 1,
    "hideHardwareSpecs": false,
    "memoryGiB": 128,
    "name": "ml.g5.8xlarge",
    "vcpuNum": 32
   },
   {
    "_defaultOrder": 51,
    "_isFastLaunch": false,
    "category": "Accelerated computing",
    "gpuNum": 1,
    "hideHardwareSpecs": false,
    "memoryGiB": 256,
    "name": "ml.g5.16xlarge",
    "vcpuNum": 64
   },
   {
    "_defaultOrder": 52,
    "_isFastLaunch": false,
    "category": "Accelerated computing",
    "gpuNum": 4,
    "hideHardwareSpecs": false,
    "memoryGiB": 192,
    "name": "ml.g5.12xlarge",
    "vcpuNum": 48
   },
   {
    "_defaultOrder": 53,
    "_isFastLaunch": false,
    "category": "Accelerated computing",
    "gpuNum": 4,
    "hideHardwareSpecs": false,
    "memoryGiB": 384,
    "name": "ml.g5.24xlarge",
    "vcpuNum": 96
   },
   {
    "_defaultOrder": 54,
    "_isFastLaunch": false,
    "category": "Accelerated computing",
    "gpuNum": 8,
    "hideHardwareSpecs": false,
    "memoryGiB": 768,
    "name": "ml.g5.48xlarge",
    "vcpuNum": 192
   },
   {
    "_defaultOrder": 55,
    "_isFastLaunch": false,
    "category": "Accelerated computing",
    "gpuNum": 8,
    "hideHardwareSpecs": false,
    "memoryGiB": 1152,
    "name": "ml.p4d.24xlarge",
    "vcpuNum": 96
   },
   {
    "_defaultOrder": 56,
    "_isFastLaunch": false,
    "category": "Accelerated computing",
    "gpuNum": 8,
    "hideHardwareSpecs": false,
    "memoryGiB": 1152,
    "name": "ml.p4de.24xlarge",
    "vcpuNum": 96
   },
   {
    "_defaultOrder": 57,
    "_isFastLaunch": false,
    "category": "Accelerated computing",
    "gpuNum": 0,
    "hideHardwareSpecs": false,
    "memoryGiB": 32,
    "name": "ml.trn1.2xlarge",
    "vcpuNum": 8
   },
   {
    "_defaultOrder": 58,
    "_isFastLaunch": false,
    "category": "Accelerated computing",
    "gpuNum": 0,
    "hideHardwareSpecs": false,
    "memoryGiB": 512,
    "name": "ml.trn1.32xlarge",
    "vcpuNum": 128
   },
   {
    "_defaultOrder": 59,
    "_isFastLaunch": false,
    "category": "Accelerated computing",
    "gpuNum": 0,
    "hideHardwareSpecs": false,
    "memoryGiB": 512,
    "name": "ml.trn1n.32xlarge",
    "vcpuNum": 128
   }
  ],
  "instance_type": "ml.t3.medium",
  "kernelspec": {
   "display_name": "Python 3 (ipykernel)",
   "language": "python",
   "name": "python3"
  },
  "language_info": {
   "codemirror_mode": {
    "name": "ipython",
    "version": 3
   },
   "file_extension": ".py",
   "mimetype": "text/x-python",
   "name": "python",
   "nbconvert_exporter": "python",
   "pygments_lexer": "ipython3",
   "version": "3.11.11"
  }
 },
 "nbformat": 4,
 "nbformat_minor": 5
}
